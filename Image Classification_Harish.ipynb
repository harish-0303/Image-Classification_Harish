{
 "cells": [
  {
   "cell_type": "markdown",
   "id": "ed835930",
   "metadata": {},
   "source": [
    "## Handwritten Number classification using CNN."
   ]
  },
  {
   "cell_type": "markdown",
   "id": "90ed59bb",
   "metadata": {},
   "source": [
    "### Group Name: W414\n",
    "<ul> \n",
    "    <li>Harish Reddy Kadukuntla</li>\n",
    "    <li>Bhanu Chander Mudeli</li>\n",
    "    <li>Yeshwnath Reddy Peddola</li>\n",
    "    <li>Sai Kumar</li>\n",
    "    </ul>"
   ]
  },
  {
   "cell_type": "markdown",
   "id": "7fba9d80",
   "metadata": {},
   "source": [
    "In this notebook we will classify handwritten digits using a simple neural network (ANN) first and than repeat same thing with convolutional neural network. We will see how accuracy improves clickly when you use convolutional neural network."
   ]
  },
  {
   "cell_type": "markdown",
   "id": "a783c7d2",
   "metadata": {},
   "source": [
    "### Introduction to Tensorflow\n",
    "Google created the open-source TensorFlow library, mostly for use in deep learning applications. It is also compatible with conventional machine learning. Originally designed for large-scale numerical computations, TensorFlow did not take deep learning into consideration. Nevertheless, Google made it publicly available after discovering that it was also highly helpful for deep learning research. Given its flexibility and scalability, this family of models also has a great deal of potential to support data analysis and modeling for a variety of issues in the behavioral and educational sciences. We provide the reader with an introduction to neural network models, including the multilayer perceptron, convolutional neural network, and stochastic gradient descent, which is the most widely used technique for neural network model optimization.\n",
    "\n",
    "Tensors, which are multi-dimensional arrays with higher dimensions, are the format in which TensorFlow accepts data. Multidimensional arrays come in very useful when managing big data sets. Keras is a small, easily learned advanced Python deep learning library that works with TensorFlow (also known as Theano or CNTK). This takes care of the finer details of tensors, such as their shape and mathematical details, freeing developers to concentrate on fundamental deep learning ideas, like building layers for neural networks. \n",
    "Theano, CNTK, or TensorFlow needs to be a Keras backend. For deep learning applications, Keras can be used without requiring interaction with the somewhat complicated TensorFlow (also known as Theano or CNTK). Frameworks come in two primary varieties: Sequential API and Functional API. Based on sequential API \n",
    "\n",
    "#### Reference\n",
    "<ul>\n",
    "    <li>Kakaletsis, Efstratios; Symeonidis, Charalampos; Tzelepi, Maria; Mademlis, Ioannis; Tefas, Anastasios; Nikolaidis, Nikos; Pitas, Ioannis (2021).</li>\n",
    "<li>Takeo Kanade (6 December 2012). Three-Dimensional Machine Vision. Springer Science & Business Media. ISBN 978-1-4613-1981-8.</li>\n",
    "    </ul>"
   ]
  },
  {
   "cell_type": "code",
   "execution_count": 1,
   "id": "640eb6ba",
   "metadata": {},
   "outputs": [
    {
     "name": "stdout",
     "output_type": "stream",
     "text": [
      "Collecting tensorflow\n",
      "  Obtaining dependency information for tensorflow from https://files.pythonhosted.org/packages/93/21/9b035a4f823d6aee2917c75415be9a95861ff3d73a0a65e48edbf210cec1/tensorflow-2.15.0-cp311-cp311-win_amd64.whl.metadata\n",
      "  Downloading tensorflow-2.15.0-cp311-cp311-win_amd64.whl.metadata (3.6 kB)\n",
      "Collecting tensorflow-intel==2.15.0 (from tensorflow)\n",
      "  Obtaining dependency information for tensorflow-intel==2.15.0 from https://files.pythonhosted.org/packages/4c/48/1a5a15517f18eaa4ff8d598b1c000300b20c1bb0e624539d702117a0c369/tensorflow_intel-2.15.0-cp311-cp311-win_amd64.whl.metadata\n",
      "  Downloading tensorflow_intel-2.15.0-cp311-cp311-win_amd64.whl.metadata (5.1 kB)\n",
      "Collecting absl-py>=1.0.0 (from tensorflow-intel==2.15.0->tensorflow)\n",
      "  Obtaining dependency information for absl-py>=1.0.0 from https://files.pythonhosted.org/packages/01/e4/dc0a1dcc4e74e08d7abedab278c795eef54a224363bb18f5692f416d834f/absl_py-2.0.0-py3-none-any.whl.metadata\n",
      "  Downloading absl_py-2.0.0-py3-none-any.whl.metadata (2.3 kB)\n",
      "Collecting astunparse>=1.6.0 (from tensorflow-intel==2.15.0->tensorflow)\n",
      "  Downloading astunparse-1.6.3-py2.py3-none-any.whl (12 kB)\n",
      "Collecting flatbuffers>=23.5.26 (from tensorflow-intel==2.15.0->tensorflow)\n",
      "  Obtaining dependency information for flatbuffers>=23.5.26 from https://files.pythonhosted.org/packages/6f/12/d5c79ee252793ffe845d58a913197bfa02ae9a0b5c9bc3dc4b58d477b9e7/flatbuffers-23.5.26-py2.py3-none-any.whl.metadata\n",
      "  Downloading flatbuffers-23.5.26-py2.py3-none-any.whl.metadata (850 bytes)\n",
      "Collecting gast!=0.5.0,!=0.5.1,!=0.5.2,>=0.2.1 (from tensorflow-intel==2.15.0->tensorflow)\n",
      "  Downloading gast-0.5.4-py3-none-any.whl (19 kB)\n",
      "Collecting google-pasta>=0.1.1 (from tensorflow-intel==2.15.0->tensorflow)\n",
      "  Downloading google_pasta-0.2.0-py3-none-any.whl (57 kB)\n",
      "     ---------------------------------------- 0.0/57.5 kB ? eta -:--:--\n",
      "     ---------------------------- ----------- 41.0/57.5 kB 2.0 MB/s eta 0:00:01\n",
      "     ---------------------------------------- 57.5/57.5 kB 1.0 MB/s eta 0:00:00\n",
      "Requirement already satisfied: h5py>=2.9.0 in c:\\users\\kaduk\\anaconda3\\lib\\site-packages (from tensorflow-intel==2.15.0->tensorflow) (3.7.0)\n",
      "Collecting libclang>=13.0.0 (from tensorflow-intel==2.15.0->tensorflow)\n",
      "  Obtaining dependency information for libclang>=13.0.0 from https://files.pythonhosted.org/packages/02/8c/dc970bc00867fe290e8c8a7befa1635af716a9ebdfe3fb9dce0ca4b522ce/libclang-16.0.6-py2.py3-none-win_amd64.whl.metadata\n",
      "  Downloading libclang-16.0.6-py2.py3-none-win_amd64.whl.metadata (5.3 kB)\n",
      "Collecting ml-dtypes~=0.2.0 (from tensorflow-intel==2.15.0->tensorflow)\n",
      "  Obtaining dependency information for ml-dtypes~=0.2.0 from https://files.pythonhosted.org/packages/08/89/c727fde1a3d12586e0b8c01abf53754707d76beaa9987640e70807d4545f/ml_dtypes-0.2.0-cp311-cp311-win_amd64.whl.metadata\n",
      "  Downloading ml_dtypes-0.2.0-cp311-cp311-win_amd64.whl.metadata (20 kB)\n",
      "Requirement already satisfied: numpy<2.0.0,>=1.23.5 in c:\\users\\kaduk\\anaconda3\\lib\\site-packages (from tensorflow-intel==2.15.0->tensorflow) (1.24.3)\n",
      "Collecting opt-einsum>=2.3.2 (from tensorflow-intel==2.15.0->tensorflow)\n",
      "  Downloading opt_einsum-3.3.0-py3-none-any.whl (65 kB)\n",
      "     ---------------------------------------- 0.0/65.5 kB ? eta -:--:--\n",
      "     ---------------------------------------- 65.5/65.5 kB 3.7 MB/s eta 0:00:00\n",
      "Requirement already satisfied: packaging in c:\\users\\kaduk\\anaconda3\\lib\\site-packages (from tensorflow-intel==2.15.0->tensorflow) (23.0)\n",
      "Collecting protobuf!=4.21.0,!=4.21.1,!=4.21.2,!=4.21.3,!=4.21.4,!=4.21.5,<5.0.0dev,>=3.20.3 (from tensorflow-intel==2.15.0->tensorflow)\n",
      "  Obtaining dependency information for protobuf!=4.21.0,!=4.21.1,!=4.21.2,!=4.21.3,!=4.21.4,!=4.21.5,<5.0.0dev,>=3.20.3 from https://files.pythonhosted.org/packages/fe/6b/7f177e8d6fe4caa14f4065433af9f879d4fab84f0d17dcba7b407f6bd808/protobuf-4.25.1-cp310-abi3-win_amd64.whl.metadata\n",
      "  Downloading protobuf-4.25.1-cp310-abi3-win_amd64.whl.metadata (541 bytes)\n",
      "Requirement already satisfied: setuptools in c:\\users\\kaduk\\anaconda3\\lib\\site-packages (from tensorflow-intel==2.15.0->tensorflow) (68.0.0)\n",
      "Requirement already satisfied: six>=1.12.0 in c:\\users\\kaduk\\anaconda3\\lib\\site-packages (from tensorflow-intel==2.15.0->tensorflow) (1.16.0)\n",
      "Collecting termcolor>=1.1.0 (from tensorflow-intel==2.15.0->tensorflow)\n",
      "  Downloading termcolor-2.3.0-py3-none-any.whl (6.9 kB)\n",
      "Requirement already satisfied: typing-extensions>=3.6.6 in c:\\users\\kaduk\\anaconda3\\lib\\site-packages (from tensorflow-intel==2.15.0->tensorflow) (4.7.1)\n",
      "Requirement already satisfied: wrapt<1.15,>=1.11.0 in c:\\users\\kaduk\\anaconda3\\lib\\site-packages (from tensorflow-intel==2.15.0->tensorflow) (1.14.1)\n",
      "Collecting tensorflow-io-gcs-filesystem>=0.23.1 (from tensorflow-intel==2.15.0->tensorflow)\n",
      "  Downloading tensorflow_io_gcs_filesystem-0.31.0-cp311-cp311-win_amd64.whl (1.5 MB)\n",
      "     ---------------------------------------- 0.0/1.5 MB ? eta -:--:--\n",
      "     ------ --------------------------------- 0.3/1.5 MB 7.9 MB/s eta 0:00:01\n",
      "     ------------------- -------------------- 0.7/1.5 MB 8.9 MB/s eta 0:00:01\n",
      "     ------------------------------- -------- 1.2/1.5 MB 9.4 MB/s eta 0:00:01\n",
      "     ---------------------------------------- 1.5/1.5 MB 8.6 MB/s eta 0:00:00\n",
      "Collecting grpcio<2.0,>=1.24.3 (from tensorflow-intel==2.15.0->tensorflow)\n",
      "  Obtaining dependency information for grpcio<2.0,>=1.24.3 from https://files.pythonhosted.org/packages/13/ee/b698a4d0eeae2d58d9906f20959b58a00622180ff8bf4ba71f71aad3c7f8/grpcio-1.59.2-cp311-cp311-win_amd64.whl.metadata\n",
      "  Downloading grpcio-1.59.2-cp311-cp311-win_amd64.whl.metadata (4.2 kB)\n",
      "Collecting tensorboard<2.16,>=2.15 (from tensorflow-intel==2.15.0->tensorflow)\n",
      "  Obtaining dependency information for tensorboard<2.16,>=2.15 from https://files.pythonhosted.org/packages/6e/0c/1059a6682cf2cc1fcc0d5327837b5672fe4f5574255fa5430d0a8ceb75e9/tensorboard-2.15.1-py3-none-any.whl.metadata\n",
      "  Downloading tensorboard-2.15.1-py3-none-any.whl.metadata (1.7 kB)\n",
      "Collecting tensorflow-estimator<2.16,>=2.15.0 (from tensorflow-intel==2.15.0->tensorflow)\n",
      "  Obtaining dependency information for tensorflow-estimator<2.16,>=2.15.0 from https://files.pythonhosted.org/packages/b6/c8/2f823c8958d5342eafc6dd3e922f0cc4fcf8c2e0460284cc462dae3b60a0/tensorflow_estimator-2.15.0-py2.py3-none-any.whl.metadata\n",
      "  Downloading tensorflow_estimator-2.15.0-py2.py3-none-any.whl.metadata (1.3 kB)\n",
      "Collecting keras<2.16,>=2.15.0 (from tensorflow-intel==2.15.0->tensorflow)\n",
      "  Obtaining dependency information for keras<2.16,>=2.15.0 from https://files.pythonhosted.org/packages/fc/a7/0d4490de967a67f68a538cc9cdb259bff971c4b5787f7765dc7c8f118f71/keras-2.15.0-py3-none-any.whl.metadata\n",
      "  Downloading keras-2.15.0-py3-none-any.whl.metadata (2.4 kB)\n",
      "Requirement already satisfied: wheel<1.0,>=0.23.0 in c:\\users\\kaduk\\anaconda3\\lib\\site-packages (from astunparse>=1.6.0->tensorflow-intel==2.15.0->tensorflow) (0.38.4)\n",
      "Collecting google-auth<3,>=1.6.3 (from tensorboard<2.16,>=2.15->tensorflow-intel==2.15.0->tensorflow)\n",
      "  Obtaining dependency information for google-auth<3,>=1.6.3 from https://files.pythonhosted.org/packages/86/a7/75911c13a242735d5aeaca6a272da380335ff4ba5f26d6b2ae20ff682d13/google_auth-2.23.4-py2.py3-none-any.whl.metadata\n",
      "  Downloading google_auth-2.23.4-py2.py3-none-any.whl.metadata (4.7 kB)\n",
      "Collecting google-auth-oauthlib<2,>=0.5 (from tensorboard<2.16,>=2.15->tensorflow-intel==2.15.0->tensorflow)\n",
      "  Obtaining dependency information for google-auth-oauthlib<2,>=0.5 from https://files.pythonhosted.org/packages/ce/33/a907b4b67245647746dde8d61e1643ef5d210c88e090d491efd89eff9f95/google_auth_oauthlib-1.1.0-py2.py3-none-any.whl.metadata\n",
      "  Downloading google_auth_oauthlib-1.1.0-py2.py3-none-any.whl.metadata (2.7 kB)\n",
      "Requirement already satisfied: markdown>=2.6.8 in c:\\users\\kaduk\\anaconda3\\lib\\site-packages (from tensorboard<2.16,>=2.15->tensorflow-intel==2.15.0->tensorflow) (3.4.1)\n",
      "Collecting protobuf!=4.21.0,!=4.21.1,!=4.21.2,!=4.21.3,!=4.21.4,!=4.21.5,<5.0.0dev,>=3.20.3 (from tensorflow-intel==2.15.0->tensorflow)\n",
      "  Obtaining dependency information for protobuf!=4.21.0,!=4.21.1,!=4.21.2,!=4.21.3,!=4.21.4,!=4.21.5,<5.0.0dev,>=3.20.3 from https://files.pythonhosted.org/packages/80/70/dc63d340d27b8ff22022d7dd14b8d6d68b479a003eacdc4507150a286d9a/protobuf-4.23.4-cp310-abi3-win_amd64.whl.metadata\n",
      "  Downloading protobuf-4.23.4-cp310-abi3-win_amd64.whl.metadata (540 bytes)\n",
      "Requirement already satisfied: requests<3,>=2.21.0 in c:\\users\\kaduk\\anaconda3\\lib\\site-packages (from tensorboard<2.16,>=2.15->tensorflow-intel==2.15.0->tensorflow) (2.31.0)\n",
      "Collecting tensorboard-data-server<0.8.0,>=0.7.0 (from tensorboard<2.16,>=2.15->tensorflow-intel==2.15.0->tensorflow)\n",
      "  Obtaining dependency information for tensorboard-data-server<0.8.0,>=0.7.0 from https://files.pythonhosted.org/packages/7a/13/e503968fefabd4c6b2650af21e110aa8466fe21432cd7c43a84577a89438/tensorboard_data_server-0.7.2-py3-none-any.whl.metadata\n",
      "  Downloading tensorboard_data_server-0.7.2-py3-none-any.whl.metadata (1.1 kB)\n",
      "Requirement already satisfied: werkzeug>=1.0.1 in c:\\users\\kaduk\\anaconda3\\lib\\site-packages (from tensorboard<2.16,>=2.15->tensorflow-intel==2.15.0->tensorflow) (2.2.3)\n",
      "Collecting cachetools<6.0,>=2.0.0 (from google-auth<3,>=1.6.3->tensorboard<2.16,>=2.15->tensorflow-intel==2.15.0->tensorflow)\n",
      "  Obtaining dependency information for cachetools<6.0,>=2.0.0 from https://files.pythonhosted.org/packages/a2/91/2d843adb9fbd911e0da45fbf6f18ca89d07a087c3daa23e955584f90ebf4/cachetools-5.3.2-py3-none-any.whl.metadata\n",
      "  Downloading cachetools-5.3.2-py3-none-any.whl.metadata (5.2 kB)\n",
      "Requirement already satisfied: pyasn1-modules>=0.2.1 in c:\\users\\kaduk\\anaconda3\\lib\\site-packages (from google-auth<3,>=1.6.3->tensorboard<2.16,>=2.15->tensorflow-intel==2.15.0->tensorflow) (0.2.8)\n",
      "Collecting rsa<5,>=3.1.4 (from google-auth<3,>=1.6.3->tensorboard<2.16,>=2.15->tensorflow-intel==2.15.0->tensorflow)\n",
      "  Downloading rsa-4.9-py3-none-any.whl (34 kB)\n",
      "Collecting requests-oauthlib>=0.7.0 (from google-auth-oauthlib<2,>=0.5->tensorboard<2.16,>=2.15->tensorflow-intel==2.15.0->tensorflow)\n",
      "  Downloading requests_oauthlib-1.3.1-py2.py3-none-any.whl (23 kB)\n",
      "Requirement already satisfied: charset-normalizer<4,>=2 in c:\\users\\kaduk\\anaconda3\\lib\\site-packages (from requests<3,>=2.21.0->tensorboard<2.16,>=2.15->tensorflow-intel==2.15.0->tensorflow) (2.0.4)\n",
      "Requirement already satisfied: idna<4,>=2.5 in c:\\users\\kaduk\\anaconda3\\lib\\site-packages (from requests<3,>=2.21.0->tensorboard<2.16,>=2.15->tensorflow-intel==2.15.0->tensorflow) (3.4)\n",
      "Requirement already satisfied: urllib3<3,>=1.21.1 in c:\\users\\kaduk\\anaconda3\\lib\\site-packages (from requests<3,>=2.21.0->tensorboard<2.16,>=2.15->tensorflow-intel==2.15.0->tensorflow) (1.26.16)\n",
      "Requirement already satisfied: certifi>=2017.4.17 in c:\\users\\kaduk\\anaconda3\\lib\\site-packages (from requests<3,>=2.21.0->tensorboard<2.16,>=2.15->tensorflow-intel==2.15.0->tensorflow) (2023.7.22)\n",
      "Requirement already satisfied: MarkupSafe>=2.1.1 in c:\\users\\kaduk\\anaconda3\\lib\\site-packages (from werkzeug>=1.0.1->tensorboard<2.16,>=2.15->tensorflow-intel==2.15.0->tensorflow) (2.1.1)\n",
      "Requirement already satisfied: pyasn1<0.5.0,>=0.4.6 in c:\\users\\kaduk\\anaconda3\\lib\\site-packages (from pyasn1-modules>=0.2.1->google-auth<3,>=1.6.3->tensorboard<2.16,>=2.15->tensorflow-intel==2.15.0->tensorflow) (0.4.8)\n",
      "Collecting oauthlib>=3.0.0 (from requests-oauthlib>=0.7.0->google-auth-oauthlib<2,>=0.5->tensorboard<2.16,>=2.15->tensorflow-intel==2.15.0->tensorflow)\n",
      "  Downloading oauthlib-3.2.2-py3-none-any.whl (151 kB)\n",
      "     ---------------------------------------- 0.0/151.7 kB ? eta -:--:--\n",
      "     -------------------------------------- 151.7/151.7 kB 4.6 MB/s eta 0:00:00\n",
      "Downloading tensorflow-2.15.0-cp311-cp311-win_amd64.whl (2.1 kB)\n",
      "Downloading tensorflow_intel-2.15.0-cp311-cp311-win_amd64.whl (300.9 MB)\n",
      "   ---------------------------------------- 0.0/300.9 MB ? eta -:--:--\n",
      "   ---------------------------------------- 0.6/300.9 MB 19.2 MB/s eta 0:00:16\n",
      "   ---------------------------------------- 1.2/300.9 MB 15.4 MB/s eta 0:00:20\n",
      "   ---------------------------------------- 1.9/300.9 MB 17.0 MB/s eta 0:00:18\n",
      "   ---------------------------------------- 2.4/300.9 MB 15.2 MB/s eta 0:00:20\n",
      "   ---------------------------------------- 3.0/300.9 MB 14.8 MB/s eta 0:00:21\n",
      "   ---------------------------------------- 3.7/300.9 MB 14.8 MB/s eta 0:00:21\n",
      "    --------------------------------------- 4.2/300.9 MB 14.3 MB/s eta 0:00:21\n",
      "    --------------------------------------- 4.9/300.9 MB 14.2 MB/s eta 0:00:21\n",
      "    --------------------------------------- 5.6/300.9 MB 14.8 MB/s eta 0:00:20\n",
      "    --------------------------------------- 6.1/300.9 MB 14.4 MB/s eta 0:00:21\n",
      "    --------------------------------------- 6.8/300.9 MB 14.5 MB/s eta 0:00:21\n",
      "    --------------------------------------- 7.5/300.9 MB 14.5 MB/s eta 0:00:21\n",
      "   - -------------------------------------- 8.2/300.9 MB 14.1 MB/s eta 0:00:21\n",
      "   - -------------------------------------- 8.7/300.9 MB 14.3 MB/s eta 0:00:21\n",
      "   - -------------------------------------- 9.2/300.9 MB 14.4 MB/s eta 0:00:21\n",
      "   - -------------------------------------- 9.9/300.9 MB 14.0 MB/s eta 0:00:21\n",
      "   - -------------------------------------- 10.6/300.9 MB 14.2 MB/s eta 0:00:21\n",
      "   - -------------------------------------- 11.2/300.9 MB 13.9 MB/s eta 0:00:21\n",
      "   - -------------------------------------- 12.0/300.9 MB 14.2 MB/s eta 0:00:21\n",
      "   - -------------------------------------- 12.5/300.9 MB 13.9 MB/s eta 0:00:21\n",
      "   - -------------------------------------- 13.1/300.9 MB 14.2 MB/s eta 0:00:21\n",
      "   - -------------------------------------- 13.8/300.9 MB 14.2 MB/s eta 0:00:21\n",
      "   - -------------------------------------- 14.5/300.9 MB 14.2 MB/s eta 0:00:21\n",
      "   -- ------------------------------------- 15.1/300.9 MB 13.9 MB/s eta 0:00:21\n",
      "   -- ------------------------------------- 15.8/300.9 MB 13.9 MB/s eta 0:00:21\n",
      "   -- ------------------------------------- 16.5/300.9 MB 14.6 MB/s eta 0:00:20\n",
      "   -- ------------------------------------- 17.1/300.9 MB 14.6 MB/s eta 0:00:20\n",
      "   -- ------------------------------------- 17.7/300.9 MB 13.9 MB/s eta 0:00:21\n",
      "   -- ------------------------------------- 18.2/300.9 MB 14.2 MB/s eta 0:00:20\n",
      "   -- ------------------------------------- 18.8/300.9 MB 13.9 MB/s eta 0:00:21\n",
      "   -- ------------------------------------- 19.4/300.9 MB 14.2 MB/s eta 0:00:20\n",
      "   -- ------------------------------------- 20.0/300.9 MB 14.2 MB/s eta 0:00:20\n",
      "   -- ------------------------------------- 20.6/300.9 MB 13.9 MB/s eta 0:00:21\n",
      "   -- ------------------------------------- 21.4/300.9 MB 14.2 MB/s eta 0:00:20\n",
      "   -- ------------------------------------- 22.0/300.9 MB 14.2 MB/s eta 0:00:20\n",
      "   --- ------------------------------------ 22.6/300.9 MB 14.2 MB/s eta 0:00:20\n",
      "   --- ------------------------------------ 23.3/300.9 MB 14.2 MB/s eta 0:00:20\n",
      "   --- ------------------------------------ 24.0/300.9 MB 14.2 MB/s eta 0:00:20\n",
      "   --- ------------------------------------ 24.5/300.9 MB 14.2 MB/s eta 0:00:20\n",
      "   --- ------------------------------------ 25.1/300.9 MB 14.2 MB/s eta 0:00:20\n",
      "   --- ------------------------------------ 25.9/300.9 MB 14.2 MB/s eta 0:00:20\n",
      "   --- ------------------------------------ 26.6/300.9 MB 14.2 MB/s eta 0:00:20\n",
      "   --- ------------------------------------ 27.2/300.9 MB 13.9 MB/s eta 0:00:20\n",
      "   --- ------------------------------------ 27.5/300.9 MB 13.6 MB/s eta 0:00:21\n",
      "   --- ------------------------------------ 27.7/300.9 MB 13.1 MB/s eta 0:00:21\n",
      "   --- ------------------------------------ 27.8/300.9 MB 12.8 MB/s eta 0:00:22\n",
      "   --- ------------------------------------ 28.1/300.9 MB 12.1 MB/s eta 0:00:23\n",
      "   --- ------------------------------------ 28.3/300.9 MB 11.7 MB/s eta 0:00:24\n",
      "   --- ------------------------------------ 28.5/300.9 MB 11.3 MB/s eta 0:00:25\n",
      "   --- ------------------------------------ 28.8/300.9 MB 10.9 MB/s eta 0:00:25\n",
      "   --- ------------------------------------ 29.0/300.9 MB 10.6 MB/s eta 0:00:26\n",
      "   --- ------------------------------------ 29.2/300.9 MB 10.4 MB/s eta 0:00:27\n",
      "   --- ------------------------------------ 29.5/300.9 MB 10.1 MB/s eta 0:00:27\n",
      "   --- ------------------------------------ 29.7/300.9 MB 9.8 MB/s eta 0:00:28\n",
      "   --- ------------------------------------ 29.9/300.9 MB 9.4 MB/s eta 0:00:29\n",
      "   ---- ----------------------------------- 30.2/300.9 MB 9.2 MB/s eta 0:00:30\n",
      "   ---- ----------------------------------- 30.5/300.9 MB 8.8 MB/s eta 0:00:31\n",
      "   ---- ----------------------------------- 30.8/300.9 MB 8.7 MB/s eta 0:00:31\n",
      "   ---- ----------------------------------- 31.0/300.9 MB 8.6 MB/s eta 0:00:32\n",
      "   ---- ----------------------------------- 31.2/300.9 MB 8.4 MB/s eta 0:00:33\n",
      "   ---- ----------------------------------- 31.5/300.9 MB 8.2 MB/s eta 0:00:33\n",
      "   ---- ----------------------------------- 31.8/300.9 MB 8.0 MB/s eta 0:00:34\n",
      "   ---- ----------------------------------- 32.0/300.9 MB 7.7 MB/s eta 0:00:35\n",
      "   ---- ----------------------------------- 32.3/300.9 MB 7.6 MB/s eta 0:00:36\n",
      "   ---- ----------------------------------- 32.6/300.9 MB 7.4 MB/s eta 0:00:37\n",
      "   ---- ----------------------------------- 33.7/300.9 MB 7.6 MB/s eta 0:00:36\n",
      "   ---- ----------------------------------- 34.2/300.9 MB 7.5 MB/s eta 0:00:36\n",
      "   ---- ----------------------------------- 34.8/300.9 MB 7.6 MB/s eta 0:00:35\n",
      "   ---- ----------------------------------- 35.4/300.9 MB 7.7 MB/s eta 0:00:35\n",
      "   ---- ----------------------------------- 36.1/300.9 MB 7.6 MB/s eta 0:00:35\n",
      "   ---- ----------------------------------- 36.7/300.9 MB 7.5 MB/s eta 0:00:36\n",
      "   ---- ----------------------------------- 37.2/300.9 MB 7.6 MB/s eta 0:00:35\n",
      "   ----- ---------------------------------- 38.0/300.9 MB 8.0 MB/s eta 0:00:33\n",
      "   ----- ---------------------------------- 38.6/300.9 MB 8.6 MB/s eta 0:00:31\n",
      "   ----- ---------------------------------- 39.2/300.9 MB 9.2 MB/s eta 0:00:29\n",
      "   ----- ---------------------------------- 39.9/300.9 MB 9.9 MB/s eta 0:00:27\n",
      "   ----- ---------------------------------- 40.4/300.9 MB 10.7 MB/s eta 0:00:25\n",
      "   ----- ---------------------------------- 41.0/300.9 MB 11.5 MB/s eta 0:00:23\n",
      "   ----- ---------------------------------- 41.7/300.9 MB 12.6 MB/s eta 0:00:21\n",
      "   ----- ---------------------------------- 42.4/300.9 MB 13.6 MB/s eta 0:00:19\n",
      "   ----- ---------------------------------- 43.0/300.9 MB 14.9 MB/s eta 0:00:18\n",
      "   ----- ---------------------------------- 43.7/300.9 MB 14.2 MB/s eta 0:00:19\n",
      "   ----- ---------------------------------- 44.3/300.9 MB 14.2 MB/s eta 0:00:19\n",
      "   ----- ---------------------------------- 44.9/300.9 MB 14.2 MB/s eta 0:00:18\n",
      "   ------ --------------------------------- 45.5/300.9 MB 13.9 MB/s eta 0:00:19\n",
      "   ------ --------------------------------- 46.2/300.9 MB 14.5 MB/s eta 0:00:18\n",
      "   ------ --------------------------------- 46.8/300.9 MB 14.6 MB/s eta 0:00:18\n",
      "   ------ --------------------------------- 47.4/300.9 MB 14.2 MB/s eta 0:00:18\n",
      "   ------ --------------------------------- 48.0/300.9 MB 13.9 MB/s eta 0:00:19\n",
      "   ------ --------------------------------- 48.9/300.9 MB 14.2 MB/s eta 0:00:18\n",
      "   ------ --------------------------------- 49.2/300.9 MB 14.2 MB/s eta 0:00:18\n",
      "   ------ --------------------------------- 49.2/300.9 MB 14.2 MB/s eta 0:00:18\n",
      "   ------ --------------------------------- 49.2/300.9 MB 14.2 MB/s eta 0:00:18\n",
      "   ------ --------------------------------- 49.2/300.9 MB 14.2 MB/s eta 0:00:18\n",
      "   ------ --------------------------------- 51.3/300.9 MB 13.6 MB/s eta 0:00:19\n",
      "   ------ --------------------------------- 51.7/300.9 MB 13.1 MB/s eta 0:00:20\n",
      "   ------ --------------------------------- 52.4/300.9 MB 13.1 MB/s eta 0:00:20\n",
      "   ------- -------------------------------- 53.0/300.9 MB 13.4 MB/s eta 0:00:19\n",
      "   ------- -------------------------------- 53.6/300.9 MB 13.4 MB/s eta 0:00:19\n",
      "   ------- -------------------------------- 54.2/300.9 MB 13.4 MB/s eta 0:00:19\n",
      "   ------- -------------------------------- 55.0/300.9 MB 13.4 MB/s eta 0:00:19\n",
      "   ------- -------------------------------- 55.5/300.9 MB 13.1 MB/s eta 0:00:19\n",
      "   ------- -------------------------------- 56.2/300.9 MB 13.4 MB/s eta 0:00:19\n",
      "   ------- -------------------------------- 56.8/300.9 MB 13.1 MB/s eta 0:00:19\n",
      "   ------- -------------------------------- 57.3/300.9 MB 13.1 MB/s eta 0:00:19\n",
      "   ------- -------------------------------- 58.0/300.9 MB 13.6 MB/s eta 0:00:18\n",
      "   ------- -------------------------------- 58.6/300.9 MB 13.4 MB/s eta 0:00:19\n",
      "   ------- -------------------------------- 59.1/300.9 MB 13.4 MB/s eta 0:00:19\n",
      "   ------- -------------------------------- 59.7/300.9 MB 16.4 MB/s eta 0:00:15\n",
      "   -------- ------------------------------- 60.4/300.9 MB 15.2 MB/s eta 0:00:16\n",
      "   -------- ------------------------------- 61.1/300.9 MB 14.2 MB/s eta 0:00:17\n",
      "   -------- ------------------------------- 61.7/300.9 MB 14.2 MB/s eta 0:00:17\n",
      "   -------- ------------------------------- 62.5/300.9 MB 14.2 MB/s eta 0:00:17\n",
      "   -------- ------------------------------- 63.1/300.9 MB 13.9 MB/s eta 0:00:18\n",
      "   -------- ------------------------------- 63.8/300.9 MB 14.2 MB/s eta 0:00:17\n",
      "   -------- ------------------------------- 64.3/300.9 MB 14.2 MB/s eta 0:00:17\n",
      "   -------- ------------------------------- 65.0/300.9 MB 14.2 MB/s eta 0:00:17\n",
      "   -------- ------------------------------- 65.7/300.9 MB 13.9 MB/s eta 0:00:17\n",
      "   -------- ------------------------------- 66.3/300.9 MB 13.9 MB/s eta 0:00:17\n",
      "   -------- ------------------------------- 66.8/300.9 MB 14.2 MB/s eta 0:00:17\n",
      "   -------- ------------------------------- 67.5/300.9 MB 14.2 MB/s eta 0:00:17\n",
      "   --------- ------------------------------ 68.1/300.9 MB 14.2 MB/s eta 0:00:17\n",
      "   --------- ------------------------------ 68.8/300.9 MB 14.2 MB/s eta 0:00:17\n",
      "   --------- ------------------------------ 69.5/300.9 MB 14.2 MB/s eta 0:00:17\n",
      "   --------- ------------------------------ 70.2/300.9 MB 13.9 MB/s eta 0:00:17\n",
      "   --------- ------------------------------ 70.7/300.9 MB 14.2 MB/s eta 0:00:17\n",
      "   --------- ------------------------------ 71.4/300.9 MB 14.2 MB/s eta 0:00:17\n",
      "   --------- ------------------------------ 72.1/300.9 MB 14.2 MB/s eta 0:00:17\n",
      "   --------- ------------------------------ 72.6/300.9 MB 13.9 MB/s eta 0:00:17\n",
      "   --------- ------------------------------ 73.3/300.9 MB 13.9 MB/s eta 0:00:17\n",
      "   --------- ------------------------------ 74.0/300.9 MB 13.9 MB/s eta 0:00:17\n",
      "   --------- ------------------------------ 74.4/300.9 MB 14.2 MB/s eta 0:00:16\n",
      "   --------- ------------------------------ 75.2/300.9 MB 14.2 MB/s eta 0:00:16\n",
      "   ---------- ----------------------------- 75.9/300.9 MB 14.2 MB/s eta 0:00:16\n",
      "   ---------- ----------------------------- 76.5/300.9 MB 14.2 MB/s eta 0:00:16\n",
      "   ---------- ----------------------------- 77.1/300.9 MB 14.2 MB/s eta 0:00:16\n",
      "   ---------- ----------------------------- 77.8/300.9 MB 14.2 MB/s eta 0:00:16\n",
      "   ---------- ----------------------------- 78.3/300.9 MB 13.9 MB/s eta 0:00:16\n",
      "   ---------- ----------------------------- 78.9/300.9 MB 14.2 MB/s eta 0:00:16\n",
      "   ---------- ----------------------------- 79.6/300.9 MB 14.2 MB/s eta 0:00:16\n",
      "   ---------- ----------------------------- 80.2/300.9 MB 14.2 MB/s eta 0:00:16\n",
      "   ---------- ----------------------------- 80.9/300.9 MB 14.6 MB/s eta 0:00:16\n",
      "   ---------- ----------------------------- 81.7/300.9 MB 14.2 MB/s eta 0:00:16\n",
      "   ---------- ----------------------------- 82.3/300.9 MB 14.2 MB/s eta 0:00:16\n",
      "   ----------- ---------------------------- 83.0/300.9 MB 13.9 MB/s eta 0:00:16\n",
      "   ----------- ---------------------------- 83.7/300.9 MB 14.2 MB/s eta 0:00:16\n",
      "   ----------- ---------------------------- 84.3/300.9 MB 14.2 MB/s eta 0:00:16\n",
      "   ----------- ---------------------------- 85.0/300.9 MB 14.2 MB/s eta 0:00:16\n",
      "   ----------- ---------------------------- 85.6/300.9 MB 14.2 MB/s eta 0:00:16\n",
      "   ----------- ---------------------------- 86.3/300.9 MB 13.9 MB/s eta 0:00:16\n",
      "   ----------- ---------------------------- 86.9/300.9 MB 13.9 MB/s eta 0:00:16\n",
      "   ----------- ---------------------------- 87.6/300.9 MB 13.9 MB/s eta 0:00:16\n",
      "   ----------- ---------------------------- 88.2/300.9 MB 13.9 MB/s eta 0:00:16\n",
      "   ----------- ---------------------------- 88.6/300.9 MB 13.6 MB/s eta 0:00:16\n",
      "   ----------- ---------------------------- 88.9/300.9 MB 13.6 MB/s eta 0:00:16\n",
      "   ----------- ---------------------------- 90.0/300.9 MB 13.9 MB/s eta 0:00:16\n",
      "   ------------ --------------------------- 90.5/300.9 MB 14.2 MB/s eta 0:00:15\n",
      "   ------------ --------------------------- 91.0/300.9 MB 13.6 MB/s eta 0:00:16\n",
      "   ------------ --------------------------- 91.4/300.9 MB 13.4 MB/s eta 0:00:16\n",
      "   ------------ --------------------------- 91.8/300.9 MB 13.1 MB/s eta 0:00:16\n",
      "   ------------ --------------------------- 92.3/300.9 MB 13.1 MB/s eta 0:00:16\n",
      "   ------------ --------------------------- 92.7/300.9 MB 13.4 MB/s eta 0:00:16\n",
      "   ------------ --------------------------- 93.1/300.9 MB 12.8 MB/s eta 0:00:17\n",
      "   ------------ --------------------------- 93.7/300.9 MB 12.6 MB/s eta 0:00:17\n",
      "   ------------ --------------------------- 93.9/300.9 MB 12.1 MB/s eta 0:00:18\n",
      "   ------------ --------------------------- 94.1/300.9 MB 11.7 MB/s eta 0:00:18\n",
      "   ------------ --------------------------- 94.5/300.9 MB 11.3 MB/s eta 0:00:19\n",
      "   ------------ --------------------------- 94.6/300.9 MB 10.9 MB/s eta 0:00:19\n",
      "   ------------ --------------------------- 94.8/300.9 MB 10.6 MB/s eta 0:00:20\n",
      "   ------------ --------------------------- 95.0/300.9 MB 10.4 MB/s eta 0:00:20\n",
      "   ------------ --------------------------- 95.2/300.9 MB 10.1 MB/s eta 0:00:21\n",
      "   ------------ --------------------------- 95.4/300.9 MB 9.8 MB/s eta 0:00:22\n",
      "   ------------ --------------------------- 96.2/300.9 MB 9.8 MB/s eta 0:00:21\n",
      "   ------------ --------------------------- 97.3/300.9 MB 10.1 MB/s eta 0:00:21\n",
      "   ------------- -------------------------- 98.1/300.9 MB 10.4 MB/s eta 0:00:20\n",
      "   ------------- -------------------------- 98.8/300.9 MB 10.4 MB/s eta 0:00:20\n",
      "   ------------- -------------------------- 99.4/300.9 MB 10.6 MB/s eta 0:00:20\n",
      "   ------------ -------------------------- 100.1/300.9 MB 10.4 MB/s eta 0:00:20\n",
      "   ------------- ------------------------- 100.8/300.9 MB 10.2 MB/s eta 0:00:20\n",
      "   ------------- ------------------------- 100.8/300.9 MB 10.2 MB/s eta 0:00:20\n",
      "   ------------- ------------------------- 100.8/300.9 MB 10.2 MB/s eta 0:00:20\n",
      "   ------------- ------------------------- 102.6/300.9 MB 10.9 MB/s eta 0:00:19\n",
      "   ------------- ------------------------- 103.2/300.9 MB 10.9 MB/s eta 0:00:19\n",
      "   ------------- ------------------------- 103.9/300.9 MB 11.1 MB/s eta 0:00:18\n",
      "   ------------- ------------------------- 104.6/300.9 MB 12.4 MB/s eta 0:00:16\n",
      "   ------------- ------------------------- 105.2/300.9 MB 13.9 MB/s eta 0:00:15\n",
      "   ------------- ------------------------- 105.9/300.9 MB 15.2 MB/s eta 0:00:13\n",
      "   ------------- ------------------------- 106.6/300.9 MB 14.6 MB/s eta 0:00:14\n",
      "   ------------- ------------------------- 107.2/300.9 MB 14.2 MB/s eta 0:00:14\n",
      "   ------------- ------------------------- 107.9/300.9 MB 13.4 MB/s eta 0:00:15\n",
      "   -------------- ------------------------ 108.8/300.9 MB 13.6 MB/s eta 0:00:15\n",
      "   -------------- ------------------------ 109.3/300.9 MB 13.6 MB/s eta 0:00:15\n",
      "   -------------- ------------------------ 109.8/300.9 MB 13.9 MB/s eta 0:00:14\n",
      "   -------------- ------------------------ 110.6/300.9 MB 13.9 MB/s eta 0:00:14\n",
      "   -------------- ------------------------ 111.3/300.9 MB 16.4 MB/s eta 0:00:12\n",
      "   -------------- ------------------------ 111.9/300.9 MB 15.2 MB/s eta 0:00:13\n",
      "   -------------- ------------------------ 112.6/300.9 MB 14.2 MB/s eta 0:00:14\n",
      "   -------------- ------------------------ 113.2/300.9 MB 14.2 MB/s eta 0:00:14\n",
      "   -------------- ------------------------ 113.9/300.9 MB 14.6 MB/s eta 0:00:13\n",
      "   -------------- ------------------------ 114.6/300.9 MB 14.2 MB/s eta 0:00:14\n",
      "   -------------- ------------------------ 115.2/300.9 MB 14.2 MB/s eta 0:00:14\n",
      "   -------------- ------------------------ 115.7/300.9 MB 13.9 MB/s eta 0:00:14\n",
      "   --------------- ----------------------- 116.7/300.9 MB 13.9 MB/s eta 0:00:14\n",
      "   --------------- ----------------------- 117.7/300.9 MB 14.2 MB/s eta 0:00:13\n",
      "   --------------- ----------------------- 118.4/300.9 MB 14.2 MB/s eta 0:00:13\n",
      "   --------------- ----------------------- 119.1/300.9 MB 14.2 MB/s eta 0:00:13\n",
      "   --------------- ----------------------- 119.7/300.9 MB 14.2 MB/s eta 0:00:13\n",
      "   --------------- ----------------------- 120.4/300.9 MB 14.6 MB/s eta 0:00:13\n",
      "   --------------- ----------------------- 121.1/300.9 MB 14.2 MB/s eta 0:00:13\n",
      "   --------------- ----------------------- 121.7/300.9 MB 14.2 MB/s eta 0:00:13\n",
      "   --------------- ----------------------- 122.4/300.9 MB 14.2 MB/s eta 0:00:13\n",
      "   --------------- ----------------------- 123.1/300.9 MB 14.2 MB/s eta 0:00:13\n",
      "   ---------------- ---------------------- 123.8/300.9 MB 13.9 MB/s eta 0:00:13\n",
      "   ---------------- ---------------------- 124.4/300.9 MB 14.2 MB/s eta 0:00:13\n",
      "   ---------------- ---------------------- 125.1/300.9 MB 14.2 MB/s eta 0:00:13\n",
      "   ---------------- ---------------------- 125.8/300.9 MB 14.2 MB/s eta 0:00:13\n",
      "   ---------------- ---------------------- 126.5/300.9 MB 14.2 MB/s eta 0:00:13\n",
      "   ---------------- ---------------------- 127.2/300.9 MB 14.6 MB/s eta 0:00:12\n",
      "   ---------------- ---------------------- 127.8/300.9 MB 14.2 MB/s eta 0:00:13\n",
      "   ---------------- ---------------------- 128.5/300.9 MB 14.2 MB/s eta 0:00:13\n",
      "   ---------------- ---------------------- 129.2/300.9 MB 14.2 MB/s eta 0:00:13\n",
      "   ---------------- ---------------------- 129.9/300.9 MB 14.2 MB/s eta 0:00:13\n",
      "   ---------------- ---------------------- 130.5/300.9 MB 13.9 MB/s eta 0:00:13\n",
      "   ----------------- --------------------- 131.2/300.9 MB 14.2 MB/s eta 0:00:12\n",
      "   ----------------- --------------------- 131.8/300.9 MB 14.2 MB/s eta 0:00:12\n",
      "   ----------------- --------------------- 132.5/300.9 MB 14.2 MB/s eta 0:00:12\n",
      "   ----------------- --------------------- 133.1/300.9 MB 14.2 MB/s eta 0:00:12\n",
      "   ----------------- --------------------- 133.9/300.9 MB 14.2 MB/s eta 0:00:12\n",
      "   ----------------- --------------------- 134.5/300.9 MB 14.2 MB/s eta 0:00:12\n",
      "   ----------------- --------------------- 135.2/300.9 MB 14.2 MB/s eta 0:00:12\n",
      "   ----------------- --------------------- 135.9/300.9 MB 14.2 MB/s eta 0:00:12\n",
      "   ----------------- --------------------- 136.6/300.9 MB 14.2 MB/s eta 0:00:12\n",
      "   ----------------- --------------------- 137.3/300.9 MB 13.9 MB/s eta 0:00:12\n",
      "   ----------------- --------------------- 137.9/300.9 MB 14.2 MB/s eta 0:00:12\n",
      "   ----------------- --------------------- 138.4/300.9 MB 13.9 MB/s eta 0:00:12\n",
      "   ------------------ -------------------- 139.1/300.9 MB 13.9 MB/s eta 0:00:12\n",
      "   ------------------ -------------------- 139.9/300.9 MB 14.2 MB/s eta 0:00:12\n",
      "   ------------------ -------------------- 140.5/300.9 MB 14.2 MB/s eta 0:00:12\n",
      "   ------------------ -------------------- 141.1/300.9 MB 13.6 MB/s eta 0:00:12\n",
      "   ------------------ -------------------- 141.5/300.9 MB 13.6 MB/s eta 0:00:12\n",
      "   ------------------ -------------------- 142.0/300.9 MB 13.4 MB/s eta 0:00:12\n",
      "   ------------------ -------------------- 142.3/300.9 MB 13.1 MB/s eta 0:00:13\n",
      "   ------------------ -------------------- 142.6/300.9 MB 12.8 MB/s eta 0:00:13\n",
      "   ------------------ -------------------- 143.0/300.9 MB 12.4 MB/s eta 0:00:13\n",
      "   ------------------ -------------------- 143.3/300.9 MB 12.1 MB/s eta 0:00:14\n",
      "   ------------------ -------------------- 143.7/300.9 MB 11.5 MB/s eta 0:00:14\n",
      "   ------------------ -------------------- 144.0/300.9 MB 11.5 MB/s eta 0:00:14\n",
      "   ------------------ -------------------- 144.5/300.9 MB 11.1 MB/s eta 0:00:15\n",
      "   ------------------ -------------------- 144.9/300.9 MB 10.9 MB/s eta 0:00:15\n",
      "   ------------------ -------------------- 145.3/300.9 MB 10.7 MB/s eta 0:00:15\n",
      "   ------------------ -------------------- 145.8/300.9 MB 10.6 MB/s eta 0:00:15\n",
      "   ------------------ -------------------- 146.1/300.9 MB 10.4 MB/s eta 0:00:15\n",
      "   ------------------- -------------------- 146.5/300.9 MB 9.9 MB/s eta 0:00:16\n",
      "   ------------------- -------------------- 146.8/300.9 MB 9.9 MB/s eta 0:00:16\n",
      "   ------------------- -------------------- 147.2/300.9 MB 9.6 MB/s eta 0:00:16\n",
      "   ------------------- -------------------- 147.5/300.9 MB 9.5 MB/s eta 0:00:17\n",
      "   ------------------- -------------------- 147.9/300.9 MB 9.2 MB/s eta 0:00:17\n",
      "   ------------------- -------------------- 148.3/300.9 MB 9.1 MB/s eta 0:00:17\n",
      "   ------------------- -------------------- 148.7/300.9 MB 9.0 MB/s eta 0:00:17\n",
      "   ------------------- -------------------- 149.7/300.9 MB 9.1 MB/s eta 0:00:17\n",
      "   -------------------- ------------------- 150.9/300.9 MB 9.5 MB/s eta 0:00:16\n",
      "   -------------------- ------------------- 151.6/300.9 MB 9.6 MB/s eta 0:00:16\n",
      "   -------------------- ------------------- 152.2/300.9 MB 9.8 MB/s eta 0:00:16\n",
      "   ------------------- ------------------- 152.9/300.9 MB 10.4 MB/s eta 0:00:15\n",
      "   ------------------- ------------------- 153.6/300.9 MB 10.7 MB/s eta 0:00:14\n",
      "   ------------------- ------------------- 154.2/300.9 MB 11.1 MB/s eta 0:00:14\n",
      "   -------------------- ------------------ 154.9/300.9 MB 11.5 MB/s eta 0:00:13\n",
      "   -------------------- ------------------ 155.6/300.9 MB 12.1 MB/s eta 0:00:12\n",
      "   -------------------- ------------------ 156.3/300.9 MB 12.6 MB/s eta 0:00:12\n",
      "   -------------------- ------------------ 157.0/300.9 MB 13.4 MB/s eta 0:00:11\n",
      "   -------------------- ------------------ 157.6/300.9 MB 13.9 MB/s eta 0:00:11\n",
      "   -------------------- ------------------ 158.3/300.9 MB 14.9 MB/s eta 0:00:10\n",
      "   -------------------- ------------------ 158.9/300.9 MB 14.9 MB/s eta 0:00:10\n",
      "   -------------------- ------------------ 159.6/300.9 MB 15.2 MB/s eta 0:00:10\n",
      "   -------------------- ------------------ 160.2/300.9 MB 14.2 MB/s eta 0:00:10\n",
      "   -------------------- ------------------ 160.9/300.9 MB 14.2 MB/s eta 0:00:10\n",
      "   -------------------- ------------------ 161.6/300.9 MB 13.9 MB/s eta 0:00:11\n",
      "   --------------------- ----------------- 162.2/300.9 MB 14.2 MB/s eta 0:00:10\n",
      "   --------------------- ----------------- 162.9/300.9 MB 13.9 MB/s eta 0:00:10\n",
      "   --------------------- ----------------- 163.5/300.9 MB 13.6 MB/s eta 0:00:11\n",
      "   --------------------- ----------------- 164.0/300.9 MB 13.6 MB/s eta 0:00:11\n",
      "   --------------------- ----------------- 164.4/300.9 MB 13.4 MB/s eta 0:00:11\n",
      "   --------------------- ----------------- 164.7/300.9 MB 13.1 MB/s eta 0:00:11\n",
      "   --------------------- ----------------- 165.1/300.9 MB 12.6 MB/s eta 0:00:11\n",
      "   --------------------- ----------------- 165.6/300.9 MB 12.4 MB/s eta 0:00:11\n",
      "   --------------------- ----------------- 165.9/300.9 MB 11.9 MB/s eta 0:00:12\n",
      "   --------------------- ----------------- 166.3/300.9 MB 11.7 MB/s eta 0:00:12\n",
      "   --------------------- ----------------- 166.8/300.9 MB 11.7 MB/s eta 0:00:12\n",
      "   --------------------- ----------------- 167.1/300.9 MB 11.3 MB/s eta 0:00:12\n",
      "   --------------------- ----------------- 167.3/300.9 MB 10.9 MB/s eta 0:00:13\n",
      "   --------------------- ----------------- 167.6/300.9 MB 10.4 MB/s eta 0:00:13\n",
      "   --------------------- ----------------- 167.7/300.9 MB 10.6 MB/s eta 0:00:13\n",
      "   ---------------------- ----------------- 168.0/300.9 MB 9.9 MB/s eta 0:00:14\n",
      "   ---------------------- ----------------- 168.3/300.9 MB 9.8 MB/s eta 0:00:14\n",
      "   ---------------------- ----------------- 168.6/300.9 MB 9.5 MB/s eta 0:00:14\n",
      "   ---------------------- ----------------- 168.9/300.9 MB 9.1 MB/s eta 0:00:15\n",
      "   ---------------------- ----------------- 169.4/300.9 MB 9.1 MB/s eta 0:00:15\n",
      "   ---------------------- ----------------- 169.8/300.9 MB 9.0 MB/s eta 0:00:15\n",
      "   ---------------------- ----------------- 170.3/300.9 MB 8.8 MB/s eta 0:00:15\n",
      "   ---------------------- ----------------- 170.7/300.9 MB 8.6 MB/s eta 0:00:16\n",
      "   ---------------------- ----------------- 171.1/300.9 MB 8.5 MB/s eta 0:00:16\n",
      "   ---------------------- ----------------- 172.0/300.9 MB 8.6 MB/s eta 0:00:15\n",
      "   ----------------------- ---------------- 173.2/300.9 MB 9.1 MB/s eta 0:00:15\n",
      "   ----------------------- ---------------- 174.0/300.9 MB 9.1 MB/s eta 0:00:14\n",
      "   ----------------------- ---------------- 174.6/300.9 MB 9.4 MB/s eta 0:00:14\n",
      "   ----------------------- ---------------- 175.3/300.9 MB 9.8 MB/s eta 0:00:13\n",
      "   ----------------------- ---------------- 176.0/300.9 MB 9.9 MB/s eta 0:00:13\n",
      "   ---------------------- ---------------- 176.7/300.9 MB 10.4 MB/s eta 0:00:12\n",
      "   ---------------------- ---------------- 177.3/300.9 MB 10.7 MB/s eta 0:00:12\n",
      "   ----------------------- --------------- 178.0/300.9 MB 12.4 MB/s eta 0:00:10\n",
      "   ----------------------- --------------- 178.6/300.9 MB 12.8 MB/s eta 0:00:10\n",
      "   ----------------------- --------------- 179.3/300.9 MB 13.6 MB/s eta 0:00:09\n",
      "   ----------------------- --------------- 179.9/300.9 MB 13.9 MB/s eta 0:00:09\n",
      "   ----------------------- --------------- 180.6/300.9 MB 14.9 MB/s eta 0:00:09\n",
      "   ----------------------- --------------- 181.2/300.9 MB 14.9 MB/s eta 0:00:09\n",
      "   ----------------------- --------------- 181.9/300.9 MB 14.9 MB/s eta 0:00:08\n",
      "   ----------------------- --------------- 182.5/300.9 MB 14.2 MB/s eta 0:00:09\n",
      "   ----------------------- --------------- 182.7/300.9 MB 14.2 MB/s eta 0:00:09\n",
      "   ----------------------- --------------- 183.7/300.9 MB 13.9 MB/s eta 0:00:09\n",
      "   ----------------------- --------------- 184.4/300.9 MB 13.6 MB/s eta 0:00:09\n",
      "   ----------------------- --------------- 185.0/300.9 MB 13.9 MB/s eta 0:00:09\n",
      "   ------------------------ -------------- 185.7/300.9 MB 13.6 MB/s eta 0:00:09\n",
      "   ------------------------ -------------- 186.3/300.9 MB 13.9 MB/s eta 0:00:09\n",
      "   ------------------------ -------------- 186.9/300.9 MB 13.9 MB/s eta 0:00:09\n",
      "   ------------------------ -------------- 187.7/300.9 MB 13.6 MB/s eta 0:00:09\n",
      "   ------------------------ -------------- 188.3/300.9 MB 13.6 MB/s eta 0:00:09\n",
      "   ------------------------ -------------- 189.0/300.9 MB 13.9 MB/s eta 0:00:09\n",
      "   ------------------------ -------------- 189.7/300.9 MB 13.9 MB/s eta 0:00:08\n",
      "   ------------------------ -------------- 190.3/300.9 MB 13.9 MB/s eta 0:00:08\n",
      "   ------------------------ -------------- 190.8/300.9 MB 13.6 MB/s eta 0:00:09\n",
      "   ------------------------ -------------- 191.4/300.9 MB 14.2 MB/s eta 0:00:08\n",
      "   ------------------------ -------------- 192.1/300.9 MB 13.9 MB/s eta 0:00:08\n",
      "   ------------------------ -------------- 192.7/300.9 MB 14.2 MB/s eta 0:00:08\n",
      "   ------------------------- ------------- 193.2/300.9 MB 14.2 MB/s eta 0:00:08\n",
      "   ------------------------- ------------- 194.1/300.9 MB 13.9 MB/s eta 0:00:08\n",
      "   ------------------------- ------------- 194.6/300.9 MB 13.9 MB/s eta 0:00:08\n",
      "   ------------------------- ------------- 195.2/300.9 MB 13.9 MB/s eta 0:00:08\n",
      "   ------------------------- ------------- 195.9/300.9 MB 14.2 MB/s eta 0:00:08\n",
      "   ------------------------- ------------- 196.5/300.9 MB 13.9 MB/s eta 0:00:08\n",
      "   ------------------------- ------------- 197.1/300.9 MB 13.9 MB/s eta 0:00:08\n",
      "   ------------------------- ------------- 197.7/300.9 MB 14.2 MB/s eta 0:00:08\n",
      "   ------------------------- ------------- 198.3/300.9 MB 14.2 MB/s eta 0:00:08\n",
      "   ------------------------- ------------- 199.0/300.9 MB 14.2 MB/s eta 0:00:08\n",
      "   ------------------------- ------------- 199.8/300.9 MB 13.9 MB/s eta 0:00:08\n",
      "   ------------------------- ------------- 200.1/300.9 MB 13.9 MB/s eta 0:00:08\n",
      "   ------------------------- ------------- 200.6/300.9 MB 13.6 MB/s eta 0:00:08\n",
      "   -------------------------- ------------ 201.1/300.9 MB 13.4 MB/s eta 0:00:08\n",
      "   -------------------------- ------------ 201.5/300.9 MB 13.1 MB/s eta 0:00:08\n",
      "   -------------------------- ------------ 202.1/300.9 MB 12.8 MB/s eta 0:00:08\n",
      "   -------------------------- ------------ 202.5/300.9 MB 12.6 MB/s eta 0:00:08\n",
      "   -------------------------- ------------ 202.9/300.9 MB 12.4 MB/s eta 0:00:08\n",
      "   -------------------------- ------------ 204.0/300.9 MB 12.9 MB/s eta 0:00:08\n",
      "   -------------------------- ------------ 205.0/300.9 MB 13.1 MB/s eta 0:00:08\n",
      "   -------------------------- ------------ 206.0/300.9 MB 13.6 MB/s eta 0:00:07\n",
      "   -------------------------- ------------ 206.4/300.9 MB 13.4 MB/s eta 0:00:08\n",
      "   -------------------------- ------------ 206.9/300.9 MB 13.1 MB/s eta 0:00:08\n",
      "   -------------------------- ------------ 207.3/300.9 MB 12.8 MB/s eta 0:00:08\n",
      "   -------------------------- ------------ 207.8/300.9 MB 12.6 MB/s eta 0:00:08\n",
      "   --------------------------- ----------- 208.4/300.9 MB 12.6 MB/s eta 0:00:08\n",
      "   --------------------------- ----------- 208.8/300.9 MB 12.4 MB/s eta 0:00:08\n",
      "   --------------------------- ----------- 209.4/300.9 MB 12.1 MB/s eta 0:00:08\n",
      "   --------------------------- ----------- 210.2/300.9 MB 12.4 MB/s eta 0:00:08\n",
      "   --------------------------- ----------- 211.4/300.9 MB 13.4 MB/s eta 0:00:07\n",
      "   --------------------------- ----------- 212.1/300.9 MB 13.9 MB/s eta 0:00:07\n",
      "   --------------------------- ----------- 212.7/300.9 MB 14.6 MB/s eta 0:00:07\n",
      "   --------------------------- ----------- 213.5/300.9 MB 14.6 MB/s eta 0:00:07\n",
      "   --------------------------- ----------- 214.0/300.9 MB 14.2 MB/s eta 0:00:07\n",
      "   --------------------------- ----------- 214.7/300.9 MB 14.2 MB/s eta 0:00:07\n",
      "   --------------------------- ----------- 215.3/300.9 MB 13.9 MB/s eta 0:00:07\n",
      "   --------------------------- ----------- 216.0/300.9 MB 13.1 MB/s eta 0:00:07\n",
      "   ---------------------------- ---------- 216.7/300.9 MB 13.6 MB/s eta 0:00:07\n",
      "   ---------------------------- ---------- 217.2/300.9 MB 13.6 MB/s eta 0:00:07\n",
      "   ---------------------------- ---------- 218.0/300.9 MB 14.2 MB/s eta 0:00:06\n",
      "   ---------------------------- ---------- 218.7/300.9 MB 15.2 MB/s eta 0:00:06\n",
      "   ---------------------------- ---------- 219.4/300.9 MB 15.2 MB/s eta 0:00:06\n",
      "   ---------------------------- ---------- 220.1/300.9 MB 15.2 MB/s eta 0:00:06\n",
      "   ---------------------------- ---------- 220.7/300.9 MB 14.6 MB/s eta 0:00:06\n",
      "   ---------------------------- ---------- 221.4/300.9 MB 14.6 MB/s eta 0:00:06\n",
      "   ---------------------------- ---------- 222.0/300.9 MB 13.9 MB/s eta 0:00:06\n",
      "   ---------------------------- ---------- 222.7/300.9 MB 14.2 MB/s eta 0:00:06\n",
      "   ---------------------------- ---------- 223.4/300.9 MB 14.2 MB/s eta 0:00:06\n",
      "   ----------------------------- --------- 224.1/300.9 MB 14.2 MB/s eta 0:00:06\n",
      "   ----------------------------- --------- 224.6/300.9 MB 14.2 MB/s eta 0:00:06\n",
      "   ----------------------------- --------- 225.3/300.9 MB 14.2 MB/s eta 0:00:06\n",
      "   ----------------------------- --------- 225.9/300.9 MB 14.2 MB/s eta 0:00:06\n",
      "   ----------------------------- --------- 226.5/300.9 MB 14.2 MB/s eta 0:00:06\n",
      "   ----------------------------- --------- 227.1/300.9 MB 14.2 MB/s eta 0:00:06\n",
      "   ----------------------------- --------- 227.5/300.9 MB 13.6 MB/s eta 0:00:06\n",
      "   ----------------------------- --------- 228.0/300.9 MB 13.6 MB/s eta 0:00:06\n",
      "   ----------------------------- --------- 228.4/300.9 MB 12.8 MB/s eta 0:00:06\n",
      "   ----------------------------- --------- 229.1/300.9 MB 12.8 MB/s eta 0:00:06\n",
      "   ----------------------------- --------- 229.5/300.9 MB 12.6 MB/s eta 0:00:06\n",
      "   ----------------------------- --------- 229.9/300.9 MB 12.4 MB/s eta 0:00:06\n",
      "   ----------------------------- --------- 230.3/300.9 MB 12.1 MB/s eta 0:00:06\n",
      "   ----------------------------- --------- 230.9/300.9 MB 11.9 MB/s eta 0:00:06\n",
      "   ----------------------------- --------- 231.2/300.9 MB 11.9 MB/s eta 0:00:06\n",
      "   ------------------------------ -------- 231.7/300.9 MB 11.5 MB/s eta 0:00:07\n",
      "   ------------------------------ -------- 232.0/300.9 MB 11.3 MB/s eta 0:00:07\n",
      "   ------------------------------ -------- 232.0/300.9 MB 11.3 MB/s eta 0:00:07\n",
      "   ------------------------------ -------- 232.3/300.9 MB 10.4 MB/s eta 0:00:07\n",
      "   ------------------------------ -------- 232.3/300.9 MB 10.2 MB/s eta 0:00:07\n",
      "   ------------------------------ --------- 232.7/300.9 MB 9.8 MB/s eta 0:00:07\n",
      "   ------------------------------ --------- 233.1/300.9 MB 9.5 MB/s eta 0:00:08\n",
      "   ------------------------------- -------- 233.5/300.9 MB 9.5 MB/s eta 0:00:08\n",
      "   ------------------------------- -------- 234.1/300.9 MB 9.4 MB/s eta 0:00:08\n",
      "   ------------------------------- -------- 234.5/300.9 MB 9.1 MB/s eta 0:00:08\n",
      "   ------------------------------- -------- 234.9/300.9 MB 9.1 MB/s eta 0:00:08\n",
      "   ------------------------------- -------- 235.6/300.9 MB 8.7 MB/s eta 0:00:08\n",
      "   ------------------------------- -------- 236.0/300.9 MB 8.6 MB/s eta 0:00:08\n",
      "   ------------------------------- -------- 236.2/300.9 MB 8.4 MB/s eta 0:00:08\n",
      "   ------------------------------- -------- 236.3/300.9 MB 8.1 MB/s eta 0:00:08\n",
      "   ------------------------------- -------- 236.9/300.9 MB 8.0 MB/s eta 0:00:09\n",
      "   ------------------------------- -------- 237.4/300.9 MB 8.0 MB/s eta 0:00:08\n",
      "   ------------------------------- -------- 237.8/300.9 MB 7.9 MB/s eta 0:00:08\n",
      "   ------------------------------- -------- 238.2/300.9 MB 8.0 MB/s eta 0:00:08\n",
      "   ------------------------------- -------- 238.6/300.9 MB 8.0 MB/s eta 0:00:08\n",
      "   ------------------------------- -------- 239.1/300.9 MB 7.8 MB/s eta 0:00:08\n",
      "   ------------------------------- -------- 239.5/300.9 MB 7.8 MB/s eta 0:00:08\n",
      "   ------------------------------- -------- 239.7/300.9 MB 7.7 MB/s eta 0:00:08\n",
      "   ------------------------------- -------- 240.0/300.9 MB 7.6 MB/s eta 0:00:09\n",
      "   ------------------------------- -------- 240.3/300.9 MB 7.5 MB/s eta 0:00:09\n",
      "   ------------------------------- -------- 240.4/300.9 MB 7.4 MB/s eta 0:00:09\n",
      "   ------------------------------- -------- 240.7/300.9 MB 7.2 MB/s eta 0:00:09\n",
      "   -------------------------------- ------- 240.9/300.9 MB 7.1 MB/s eta 0:00:09\n",
      "   -------------------------------- ------- 241.1/300.9 MB 7.0 MB/s eta 0:00:09\n",
      "   -------------------------------- ------- 241.3/300.9 MB 6.8 MB/s eta 0:00:09\n",
      "   -------------------------------- ------- 241.5/300.9 MB 6.7 MB/s eta 0:00:09\n",
      "   -------------------------------- ------- 241.8/300.9 MB 6.7 MB/s eta 0:00:09\n",
      "   -------------------------------- ------- 241.9/300.9 MB 6.5 MB/s eta 0:00:10\n",
      "   -------------------------------- ------- 242.2/300.9 MB 6.4 MB/s eta 0:00:10\n",
      "   -------------------------------- ------- 242.4/300.9 MB 6.7 MB/s eta 0:00:09\n",
      "   -------------------------------- ------- 242.8/300.9 MB 6.9 MB/s eta 0:00:09\n",
      "   -------------------------------- ------- 243.4/300.9 MB 7.0 MB/s eta 0:00:09\n",
      "   -------------------------------- ------- 243.9/300.9 MB 6.9 MB/s eta 0:00:09\n",
      "   -------------------------------- ------- 244.3/300.9 MB 6.9 MB/s eta 0:00:09\n",
      "   -------------------------------- ------- 244.9/300.9 MB 6.9 MB/s eta 0:00:09\n",
      "   -------------------------------- ------- 245.3/300.9 MB 7.0 MB/s eta 0:00:08\n",
      "   -------------------------------- ------- 245.8/300.9 MB 7.1 MB/s eta 0:00:08\n",
      "   -------------------------------- ------- 246.4/300.9 MB 7.2 MB/s eta 0:00:08\n",
      "   -------------------------------- ------- 246.8/300.9 MB 7.5 MB/s eta 0:00:08\n",
      "   -------------------------------- ------- 247.0/300.9 MB 7.4 MB/s eta 0:00:08\n",
      "   -------------------------------- ------- 248.2/300.9 MB 7.8 MB/s eta 0:00:07\n",
      "   --------------------------------- ------ 249.4/300.9 MB 8.3 MB/s eta 0:00:07\n",
      "   --------------------------------- ------ 250.0/300.9 MB 8.7 MB/s eta 0:00:06\n",
      "   --------------------------------- ------ 250.7/300.9 MB 9.4 MB/s eta 0:00:06\n",
      "   -------------------------------- ------ 251.4/300.9 MB 10.2 MB/s eta 0:00:05\n",
      "   -------------------------------- ------ 252.0/300.9 MB 11.1 MB/s eta 0:00:05\n",
      "   -------------------------------- ------ 252.7/300.9 MB 12.8 MB/s eta 0:00:04\n",
      "   -------------------------------- ------ 253.4/300.9 MB 13.1 MB/s eta 0:00:04\n",
      "   -------------------------------- ------ 254.0/300.9 MB 13.6 MB/s eta 0:00:04\n",
      "   --------------------------------- ----- 254.7/300.9 MB 13.6 MB/s eta 0:00:04\n",
      "   --------------------------------- ----- 255.4/300.9 MB 14.2 MB/s eta 0:00:04\n",
      "   --------------------------------- ----- 256.1/300.9 MB 14.6 MB/s eta 0:00:04\n",
      "   --------------------------------- ----- 256.7/300.9 MB 15.2 MB/s eta 0:00:03\n",
      "   --------------------------------- ----- 257.4/300.9 MB 15.2 MB/s eta 0:00:03\n",
      "   --------------------------------- ----- 258.1/300.9 MB 15.2 MB/s eta 0:00:03\n",
      "   --------------------------------- ----- 258.8/300.9 MB 14.6 MB/s eta 0:00:03\n",
      "   --------------------------------- ----- 260.3/300.9 MB 13.9 MB/s eta 0:00:03\n",
      "   --------------------------------- ----- 261.1/300.9 MB 13.9 MB/s eta 0:00:03\n",
      "   --------------------------------- ----- 261.6/300.9 MB 14.2 MB/s eta 0:00:03\n",
      "   --------------------------------- ----- 262.3/300.9 MB 13.9 MB/s eta 0:00:03\n",
      "   ---------------------------------- ---- 262.9/300.9 MB 13.9 MB/s eta 0:00:03\n",
      "   ---------------------------------- ---- 263.6/300.9 MB 13.9 MB/s eta 0:00:03\n",
      "   ---------------------------------- ---- 264.3/300.9 MB 14.6 MB/s eta 0:00:03\n",
      "   ---------------------------------- ---- 264.9/300.9 MB 13.9 MB/s eta 0:00:03\n",
      "   ---------------------------------- ---- 265.6/300.9 MB 14.6 MB/s eta 0:00:03\n",
      "   ---------------------------------- ---- 266.2/300.9 MB 13.9 MB/s eta 0:00:03\n",
      "   ---------------------------------- ---- 266.6/300.9 MB 13.9 MB/s eta 0:00:03\n",
      "   ---------------------------------- ---- 267.7/300.9 MB 14.2 MB/s eta 0:00:03\n",
      "   ---------------------------------- ---- 268.3/300.9 MB 14.2 MB/s eta 0:00:03\n",
      "   ---------------------------------- ---- 269.0/300.9 MB 14.2 MB/s eta 0:00:03\n",
      "   ---------------------------------- ---- 269.5/300.9 MB 14.9 MB/s eta 0:00:03\n",
      "   ----------------------------------- --- 270.2/300.9 MB 14.2 MB/s eta 0:00:03\n",
      "   ----------------------------------- --- 270.9/300.9 MB 14.2 MB/s eta 0:00:03\n",
      "   ----------------------------------- --- 271.5/300.9 MB 14.2 MB/s eta 0:00:03\n",
      "   ----------------------------------- --- 272.2/300.9 MB 13.9 MB/s eta 0:00:03\n",
      "   ----------------------------------- --- 272.9/300.9 MB 14.2 MB/s eta 0:00:02\n",
      "   ----------------------------------- --- 273.6/300.9 MB 13.9 MB/s eta 0:00:02\n",
      "   ----------------------------------- --- 274.2/300.9 MB 14.2 MB/s eta 0:00:02\n",
      "   ----------------------------------- --- 275.0/300.9 MB 14.2 MB/s eta 0:00:02\n",
      "   ----------------------------------- --- 275.6/300.9 MB 14.2 MB/s eta 0:00:02\n",
      "   ----------------------------------- --- 276.4/300.9 MB 14.2 MB/s eta 0:00:02\n",
      "   ----------------------------------- --- 277.0/300.9 MB 14.5 MB/s eta 0:00:02\n",
      "   ----------------------------------- --- 277.7/300.9 MB 13.9 MB/s eta 0:00:02\n",
      "   ------------------------------------ -- 278.3/300.9 MB 14.2 MB/s eta 0:00:02\n",
      "   ------------------------------------ -- 279.0/300.9 MB 14.2 MB/s eta 0:00:02\n",
      "   ------------------------------------ -- 279.6/300.9 MB 14.2 MB/s eta 0:00:02\n",
      "   ------------------------------------ -- 280.3/300.9 MB 14.2 MB/s eta 0:00:02\n",
      "   ------------------------------------ -- 281.0/300.9 MB 13.9 MB/s eta 0:00:02\n",
      "   ------------------------------------ -- 281.5/300.9 MB 13.9 MB/s eta 0:00:02\n",
      "   ------------------------------------ -- 281.8/300.9 MB 13.4 MB/s eta 0:00:02\n",
      "   ------------------------------------ -- 282.1/300.9 MB 13.1 MB/s eta 0:00:02\n",
      "   ------------------------------------ -- 282.4/300.9 MB 12.6 MB/s eta 0:00:02\n",
      "   ------------------------------------ -- 282.7/300.9 MB 12.1 MB/s eta 0:00:02\n",
      "   ------------------------------------ -- 283.0/300.9 MB 11.9 MB/s eta 0:00:02\n",
      "   ------------------------------------ -- 283.3/300.9 MB 11.7 MB/s eta 0:00:02\n",
      "   ------------------------------------ -- 283.6/300.9 MB 11.3 MB/s eta 0:00:02\n",
      "   ------------------------------------ -- 283.7/300.9 MB 11.1 MB/s eta 0:00:02\n",
      "   ------------------------------------ -- 283.8/300.9 MB 10.7 MB/s eta 0:00:02\n",
      "   ------------------------------------ -- 284.0/300.9 MB 10.1 MB/s eta 0:00:02\n",
      "   ------------------------------------- -- 284.1/300.9 MB 9.8 MB/s eta 0:00:02\n",
      "   ------------------------------------- -- 284.4/300.9 MB 9.6 MB/s eta 0:00:02\n",
      "   ------------------------------------- -- 284.4/300.9 MB 9.4 MB/s eta 0:00:02\n",
      "   ------------------------------------- -- 284.5/300.9 MB 8.8 MB/s eta 0:00:02\n",
      "   ------------------------------------- -- 284.8/300.9 MB 8.7 MB/s eta 0:00:02\n",
      "   ------------------------------------- -- 284.9/300.9 MB 8.6 MB/s eta 0:00:02\n",
      "   ------------------------------------- -- 285.1/300.9 MB 8.3 MB/s eta 0:00:02\n",
      "   ------------------------------------- -- 285.3/300.9 MB 8.0 MB/s eta 0:00:02\n",
      "   ------------------------------------- -- 285.4/300.9 MB 7.8 MB/s eta 0:00:02\n",
      "   ------------------------------------- -- 285.7/300.9 MB 7.5 MB/s eta 0:00:03\n",
      "   ------------------------------------- -- 285.7/300.9 MB 7.5 MB/s eta 0:00:03\n",
      "   -------------------------------------- - 285.9/300.9 MB 7.3 MB/s eta 0:00:03\n",
      "   -------------------------------------- - 286.2/300.9 MB 7.0 MB/s eta 0:00:03\n",
      "   -------------------------------------- - 286.6/300.9 MB 7.0 MB/s eta 0:00:03\n",
      "   -------------------------------------- - 287.9/300.9 MB 7.2 MB/s eta 0:00:02\n",
      "   -------------------------------------- - 288.5/300.9 MB 7.1 MB/s eta 0:00:02\n",
      "   -------------------------------------- - 289.1/300.9 MB 7.1 MB/s eta 0:00:02\n",
      "   -------------------------------------- - 289.8/300.9 MB 7.1 MB/s eta 0:00:02\n",
      "   -------------------------------------- - 290.5/300.9 MB 7.1 MB/s eta 0:00:02\n",
      "   -------------------------------------- - 291.1/300.9 MB 7.1 MB/s eta 0:00:02\n",
      "   -------------------------------------- - 291.7/300.9 MB 7.2 MB/s eta 0:00:02\n",
      "   -------------------------------------- - 292.4/300.9 MB 7.4 MB/s eta 0:00:02\n",
      "   -------------------------------------- - 293.0/300.9 MB 7.8 MB/s eta 0:00:02\n",
      "   ---------------------------------------  293.6/300.9 MB 8.1 MB/s eta 0:00:01\n",
      "   ---------------------------------------  294.4/300.9 MB 9.2 MB/s eta 0:00:01\n",
      "   --------------------------------------  295.1/300.9 MB 10.4 MB/s eta 0:00:01\n",
      "   --------------------------------------  295.8/300.9 MB 12.9 MB/s eta 0:00:01\n",
      "   --------------------------------------  296.4/300.9 MB 14.2 MB/s eta 0:00:01\n",
      "   --------------------------------------  297.1/300.9 MB 14.6 MB/s eta 0:00:01\n",
      "   --------------------------------------  297.7/300.9 MB 14.2 MB/s eta 0:00:01\n",
      "   --------------------------------------  298.4/300.9 MB 13.6 MB/s eta 0:00:01\n",
      "   --------------------------------------  299.1/300.9 MB 14.2 MB/s eta 0:00:01\n",
      "   --------------------------------------  299.6/300.9 MB 14.2 MB/s eta 0:00:01\n",
      "   --------------------------------------  299.9/300.9 MB 13.9 MB/s eta 0:00:01\n",
      "   --------------------------------------  300.3/300.9 MB 13.4 MB/s eta 0:00:01\n",
      "   --------------------------------------  300.6/300.9 MB 13.1 MB/s eta 0:00:01\n",
      "   --------------------------------------  300.8/300.9 MB 12.8 MB/s eta 0:00:01\n",
      "   --------------------------------------  300.9/300.9 MB 12.4 MB/s eta 0:00:01\n",
      "   --------------------------------------  300.9/300.9 MB 12.4 MB/s eta 0:00:01\n",
      "   --------------------------------------  300.9/300.9 MB 12.4 MB/s eta 0:00:01\n",
      "   --------------------------------------  300.9/300.9 MB 12.4 MB/s eta 0:00:01\n",
      "   --------------------------------------  300.9/300.9 MB 12.4 MB/s eta 0:00:01\n",
      "   --------------------------------------  300.9/300.9 MB 12.4 MB/s eta 0:00:01\n",
      "   --------------------------------------  300.9/300.9 MB 12.4 MB/s eta 0:00:01\n",
      "   --------------------------------------  300.9/300.9 MB 12.4 MB/s eta 0:00:01\n",
      "   --------------------------------------  300.9/300.9 MB 12.4 MB/s eta 0:00:01\n",
      "   --------------------------------------  300.9/300.9 MB 12.4 MB/s eta 0:00:01\n",
      "   --------------------------------------  300.9/300.9 MB 12.4 MB/s eta 0:00:01\n",
      "   --------------------------------------  300.9/300.9 MB 12.4 MB/s eta 0:00:01\n",
      "   --------------------------------------  300.9/300.9 MB 12.4 MB/s eta 0:00:01\n",
      "   ---------------------------------------- 300.9/300.9 MB 4.7 MB/s eta 0:00:00\n",
      "Downloading absl_py-2.0.0-py3-none-any.whl (130 kB)\n",
      "   ---------------------------------------- 0.0/130.2 kB ? eta -:--:--\n",
      "   ---------------------------------------- 130.2/130.2 kB 8.0 MB/s eta 0:00:00\n",
      "Downloading flatbuffers-23.5.26-py2.py3-none-any.whl (26 kB)\n",
      "Downloading grpcio-1.59.2-cp311-cp311-win_amd64.whl (3.7 MB)\n",
      "   ---------------------------------------- 0.0/3.7 MB ? eta -:--:--\n",
      "   ------ --------------------------------- 0.6/3.7 MB 19.2 MB/s eta 0:00:01\n",
      "   ------------- -------------------------- 1.3/3.7 MB 16.1 MB/s eta 0:00:01\n",
      "   --------------------- ------------------ 2.0/3.7 MB 15.6 MB/s eta 0:00:01\n",
      "   ---------------------------- ----------- 2.6/3.7 MB 14.9 MB/s eta 0:00:01\n",
      "   --------------------------------- ------ 3.1/3.7 MB 14.2 MB/s eta 0:00:01\n",
      "   ------------------------------------- -- 3.4/3.7 MB 12.8 MB/s eta 0:00:01\n",
      "   ---------------------------------------- 3.7/3.7 MB 11.7 MB/s eta 0:00:00\n",
      "Downloading keras-2.15.0-py3-none-any.whl (1.7 MB)\n",
      "   ---------------------------------------- 0.0/1.7 MB ? eta -:--:--\n",
      "   ---------- ----------------------------- 0.5/1.7 MB 9.6 MB/s eta 0:00:01\n",
      "   ------------------- -------------------- 0.8/1.7 MB 10.6 MB/s eta 0:00:01\n",
      "   -------------------------- ------------- 1.1/1.7 MB 9.1 MB/s eta 0:00:01\n",
      "   -------------------------------- ------- 1.4/1.7 MB 8.0 MB/s eta 0:00:01\n",
      "   ---------------------------------------  1.7/1.7 MB 7.8 MB/s eta 0:00:01\n",
      "   ---------------------------------------- 1.7/1.7 MB 7.3 MB/s eta 0:00:00\n",
      "Downloading libclang-16.0.6-py2.py3-none-win_amd64.whl (24.4 MB)\n",
      "   ---------------------------------------- 0.0/24.4 MB ? eta -:--:--\n",
      "    --------------------------------------- 0.3/24.4 MB 10.2 MB/s eta 0:00:03\n",
      "   - -------------------------------------- 0.7/24.4 MB 9.1 MB/s eta 0:00:03\n",
      "   - -------------------------------------- 1.2/24.4 MB 9.4 MB/s eta 0:00:03\n",
      "   -- ------------------------------------- 1.6/24.4 MB 9.4 MB/s eta 0:00:03\n",
      "   --- ------------------------------------ 2.1/24.4 MB 9.0 MB/s eta 0:00:03\n",
      "   ---- ----------------------------------- 2.5/24.4 MB 9.4 MB/s eta 0:00:03\n",
      "   ---- ----------------------------------- 2.9/24.4 MB 9.0 MB/s eta 0:00:03\n",
      "   ----- ---------------------------------- 3.4/24.4 MB 9.1 MB/s eta 0:00:03\n",
      "   ------ --------------------------------- 3.8/24.4 MB 9.4 MB/s eta 0:00:03\n",
      "   ------ --------------------------------- 4.1/24.4 MB 9.1 MB/s eta 0:00:03\n",
      "   ------- -------------------------------- 4.6/24.4 MB 9.5 MB/s eta 0:00:03\n",
      "   -------- ------------------------------- 5.0/24.4 MB 9.4 MB/s eta 0:00:03\n",
      "   --------- ------------------------------ 5.5/24.4 MB 9.3 MB/s eta 0:00:03\n",
      "   --------- ------------------------------ 5.9/24.4 MB 9.2 MB/s eta 0:00:03\n",
      "   ---------- ----------------------------- 6.4/24.4 MB 9.2 MB/s eta 0:00:02\n",
      "   ----------- ---------------------------- 6.7/24.4 MB 9.0 MB/s eta 0:00:02\n",
      "   ----------- ---------------------------- 7.3/24.4 MB 9.2 MB/s eta 0:00:02\n",
      "   ------------ --------------------------- 7.8/24.4 MB 9.0 MB/s eta 0:00:02\n",
      "   ------------- -------------------------- 8.3/24.4 MB 9.2 MB/s eta 0:00:02\n",
      "   -------------- ------------------------- 8.9/24.4 MB 9.3 MB/s eta 0:00:02\n",
      "   --------------- ------------------------ 9.4/24.4 MB 9.2 MB/s eta 0:00:02\n",
      "   ---------------- ----------------------- 9.8/24.4 MB 9.2 MB/s eta 0:00:02\n",
      "   ---------------- ----------------------- 10.2/24.4 MB 9.3 MB/s eta 0:00:02\n",
      "   ----------------- ---------------------- 10.6/24.4 MB 9.2 MB/s eta 0:00:02\n",
      "   ----------------- ---------------------- 11.0/24.4 MB 9.4 MB/s eta 0:00:02\n",
      "   ------------------ --------------------- 11.4/24.4 MB 9.2 MB/s eta 0:00:02\n",
      "   ------------------- -------------------- 11.8/24.4 MB 9.1 MB/s eta 0:00:02\n",
      "   ------------------- -------------------- 12.1/24.4 MB 9.1 MB/s eta 0:00:02\n",
      "   -------------------- ------------------- 12.4/24.4 MB 8.8 MB/s eta 0:00:02\n",
      "   -------------------- ------------------- 12.7/24.4 MB 8.7 MB/s eta 0:00:02\n",
      "   --------------------- ------------------ 13.0/24.4 MB 8.7 MB/s eta 0:00:02\n",
      "   --------------------- ------------------ 13.1/24.4 MB 8.6 MB/s eta 0:00:02\n",
      "   --------------------- ------------------ 13.3/24.4 MB 8.2 MB/s eta 0:00:02\n",
      "   ----------------------- ---------------- 14.6/24.4 MB 9.0 MB/s eta 0:00:02\n",
      "   ------------------------- -------------- 15.5/24.4 MB 9.2 MB/s eta 0:00:01\n",
      "   -------------------------- ------------- 16.0/24.4 MB 9.5 MB/s eta 0:00:01\n",
      "   --------------------------- ------------ 16.7/24.4 MB 9.6 MB/s eta 0:00:01\n",
      "   ---------------------------- ----------- 17.4/24.4 MB 9.9 MB/s eta 0:00:01\n",
      "   ----------------------------- ---------- 17.9/24.4 MB 10.1 MB/s eta 0:00:01\n",
      "   ------------------------------ --------- 18.7/24.4 MB 10.4 MB/s eta 0:00:01\n",
      "   ------------------------------- -------- 19.4/24.4 MB 10.6 MB/s eta 0:00:01\n",
      "   -------------------------------- ------- 20.0/24.4 MB 10.7 MB/s eta 0:00:01\n",
      "   --------------------------------- ------ 20.6/24.4 MB 11.1 MB/s eta 0:00:01\n",
      "   ---------------------------------- ----- 21.3/24.4 MB 11.5 MB/s eta 0:00:01\n",
      "   ----------------------------------- ---- 21.9/24.4 MB 11.9 MB/s eta 0:00:01\n",
      "   ------------------------------------ --- 22.6/24.4 MB 12.4 MB/s eta 0:00:01\n",
      "   ------------------------------------- -- 23.2/24.4 MB 13.4 MB/s eta 0:00:01\n",
      "   ---------------------------------------  23.8/24.4 MB 14.9 MB/s eta 0:00:01\n",
      "   ---------------------------------------  24.4/24.4 MB 14.6 MB/s eta 0:00:01\n",
      "   ---------------------------------------  24.4/24.4 MB 14.2 MB/s eta 0:00:01\n",
      "   ---------------------------------------- 24.4/24.4 MB 12.3 MB/s eta 0:00:00\n",
      "Downloading ml_dtypes-0.2.0-cp311-cp311-win_amd64.whl (938 kB)\n",
      "   ---------------------------------------- 0.0/938.7 kB ? eta -:--:--\n",
      "   ------------------------- ------------- 604.2/938.7 kB 19.2 MB/s eta 0:00:01\n",
      "   --------------------------------------  931.8/938.7 kB 14.9 MB/s eta 0:00:01\n",
      "   --------------------------------------- 938.7/938.7 kB 11.9 MB/s eta 0:00:00\n",
      "Downloading tensorboard-2.15.1-py3-none-any.whl (5.5 MB)\n",
      "   ---------------------------------------- 0.0/5.5 MB ? eta -:--:--\n",
      "   ---- ----------------------------------- 0.7/5.5 MB 14.7 MB/s eta 0:00:01\n",
      "   -------- ------------------------------- 1.1/5.5 MB 14.3 MB/s eta 0:00:01\n",
      "   -------------- ------------------------- 2.0/5.5 MB 16.1 MB/s eta 0:00:01\n",
      "   ------------------ --------------------- 2.6/5.5 MB 14.9 MB/s eta 0:00:01\n",
      "   ---------------------- ----------------- 3.2/5.5 MB 14.5 MB/s eta 0:00:01\n",
      "   --------------------------- ------------ 3.8/5.5 MB 14.3 MB/s eta 0:00:01\n",
      "   -------------------------------- ------- 4.5/5.5 MB 14.3 MB/s eta 0:00:01\n",
      "   ------------------------------------ --- 5.1/5.5 MB 14.8 MB/s eta 0:00:01\n",
      "   ---------------------------------------  5.5/5.5 MB 14.7 MB/s eta 0:00:01\n",
      "   ---------------------------------------- 5.5/5.5 MB 13.6 MB/s eta 0:00:00\n",
      "Downloading protobuf-4.23.4-cp310-abi3-win_amd64.whl (422 kB)\n",
      "   ---------------------------------------- 0.0/422.5 kB ? eta -:--:--\n",
      "   --------------------------------------- 422.5/422.5 kB 12.9 MB/s eta 0:00:00\n",
      "Downloading tensorflow_estimator-2.15.0-py2.py3-none-any.whl (441 kB)\n",
      "   ---------------------------------------- 0.0/442.0 kB ? eta -:--:--\n",
      "   --------------------------------------- 442.0/442.0 kB 13.5 MB/s eta 0:00:00\n",
      "Downloading google_auth-2.23.4-py2.py3-none-any.whl (183 kB)\n",
      "   ---------------------------------------- 0.0/183.3 kB ? eta -:--:--\n",
      "   ---------------------------------------- 183.3/183.3 kB 5.6 MB/s eta 0:00:00\n",
      "Downloading google_auth_oauthlib-1.1.0-py2.py3-none-any.whl (19 kB)\n",
      "Downloading tensorboard_data_server-0.7.2-py3-none-any.whl (2.4 kB)\n",
      "Downloading cachetools-5.3.2-py3-none-any.whl (9.3 kB)\n",
      "Installing collected packages: libclang, flatbuffers, termcolor, tensorflow-io-gcs-filesystem, tensorflow-estimator, tensorboard-data-server, rsa, protobuf, opt-einsum, oauthlib, ml-dtypes, keras, grpcio, google-pasta, gast, cachetools, astunparse, absl-py, requests-oauthlib, google-auth, google-auth-oauthlib, tensorboard, tensorflow-intel, tensorflow\n",
      "Successfully installed absl-py-2.0.0 astunparse-1.6.3 cachetools-5.3.2 flatbuffers-23.5.26 gast-0.5.4 google-auth-2.23.4 google-auth-oauthlib-1.1.0 google-pasta-0.2.0 grpcio-1.59.2 keras-2.15.0 libclang-16.0.6 ml-dtypes-0.2.0 oauthlib-3.2.2 opt-einsum-3.3.0 protobuf-4.23.4 requests-oauthlib-1.3.1 rsa-4.9 tensorboard-2.15.1 tensorboard-data-server-0.7.2 tensorflow-2.15.0 tensorflow-estimator-2.15.0 tensorflow-intel-2.15.0 tensorflow-io-gcs-filesystem-0.31.0 termcolor-2.3.0\n",
      "Note: you may need to restart the kernel to use updated packages.\n"
     ]
    }
   ],
   "source": [
    "pip install tensorflow"
   ]
  },
  {
   "cell_type": "markdown",
   "id": "13c4cd7c",
   "metadata": {},
   "source": [
    "#### Matplot.\n",
    "A complete Python visualization toolkit for static, animated, and interactive graphics is called Matplotlib. Matplotlib enables both difficult and easy tasks.\n",
    "\n",
    "\n",
    "Make plots fit for publication. Create dynamic figures with zoom, pan, and update capabilities. Personalize the layout and visual style. Export in a variety of file types. Integrate graphical user interfaces and JupyterLab. Utilize a wide range of third-party packages constructed using Matplotlib.\n"
   ]
  },
  {
   "cell_type": "code",
   "execution_count": 2,
   "id": "d0077bfa",
   "metadata": {},
   "outputs": [
    {
     "name": "stdout",
     "output_type": "stream",
     "text": [
      "Requirement already satisfied: matplotlib in c:\\users\\kaduk\\anaconda3\\lib\\site-packages (3.7.1)\n",
      "Requirement already satisfied: contourpy>=1.0.1 in c:\\users\\kaduk\\anaconda3\\lib\\site-packages (from matplotlib) (1.0.5)\n",
      "Requirement already satisfied: cycler>=0.10 in c:\\users\\kaduk\\anaconda3\\lib\\site-packages (from matplotlib) (0.11.0)\n",
      "Requirement already satisfied: fonttools>=4.22.0 in c:\\users\\kaduk\\anaconda3\\lib\\site-packages (from matplotlib) (4.25.0)\n",
      "Requirement already satisfied: kiwisolver>=1.0.1 in c:\\users\\kaduk\\anaconda3\\lib\\site-packages (from matplotlib) (1.4.4)\n",
      "Requirement already satisfied: numpy>=1.20 in c:\\users\\kaduk\\anaconda3\\lib\\site-packages (from matplotlib) (1.24.3)\n",
      "Requirement already satisfied: packaging>=20.0 in c:\\users\\kaduk\\anaconda3\\lib\\site-packages (from matplotlib) (23.0)\n",
      "Requirement already satisfied: pillow>=6.2.0 in c:\\users\\kaduk\\anaconda3\\lib\\site-packages (from matplotlib) (9.4.0)\n",
      "Requirement already satisfied: pyparsing>=2.3.1 in c:\\users\\kaduk\\anaconda3\\lib\\site-packages (from matplotlib) (3.0.9)\n",
      "Requirement already satisfied: python-dateutil>=2.7 in c:\\users\\kaduk\\anaconda3\\lib\\site-packages (from matplotlib) (2.8.2)\n",
      "Requirement already satisfied: six>=1.5 in c:\\users\\kaduk\\anaconda3\\lib\\site-packages (from python-dateutil>=2.7->matplotlib) (1.16.0)\n",
      "Note: you may need to restart the kernel to use updated packages.\n"
     ]
    }
   ],
   "source": [
    "pip install matplotlib"
   ]
  },
  {
   "cell_type": "code",
   "execution_count": 1,
   "id": "8aef67ce",
   "metadata": {},
   "outputs": [
    {
     "name": "stdout",
     "output_type": "stream",
     "text": [
      "WARNING:tensorflow:From C:\\Users\\kaduk\\anaconda3\\Lib\\site-packages\\keras\\src\\losses.py:2976: The name tf.losses.sparse_softmax_cross_entropy is deprecated. Please use tf.compat.v1.losses.sparse_softmax_cross_entropy instead.\n",
      "\n"
     ]
    }
   ],
   "source": [
    "import tensorflow as tf\n",
    "from tensorflow import keras\n",
    "from tensorflow.keras import datasets, layers, models\n",
    "import matplotlib.pyplot as plt\n",
    "import matplotlib\n",
    "%matplotlib inline\n",
    "import numpy as np"
   ]
  },
  {
   "cell_type": "code",
   "execution_count": 2,
   "id": "dba13990",
   "metadata": {},
   "outputs": [
    {
     "name": "stdout",
     "output_type": "stream",
     "text": [
      "2.15.0\n",
      "3.7.1\n",
      "1.24.3\n"
     ]
    }
   ],
   "source": [
    "print(tf.__version__)\n",
    "print(matplotlib.__version__)\n",
    "print(np.__version__)"
   ]
  },
  {
   "cell_type": "code",
   "execution_count": 3,
   "id": "1dedfd36",
   "metadata": {},
   "outputs": [
    {
     "name": "stdout",
     "output_type": "stream",
     "text": [
      "Downloading data from https://storage.googleapis.com/tensorflow/tf-keras-datasets/mnist.npz\n",
      "11490434/11490434 [==============================] - 2s 0us/step\n"
     ]
    }
   ],
   "source": [
    "(X_train, y_train) , (X_test, y_test) = keras.datasets.mnist.load_data()"
   ]
  },
  {
   "cell_type": "code",
   "execution_count": 4,
   "id": "2d6e0807",
   "metadata": {},
   "outputs": [
    {
     "data": {
      "text/plain": [
       "(60000, 28, 28)"
      ]
     },
     "execution_count": 4,
     "metadata": {},
     "output_type": "execute_result"
    }
   ],
   "source": [
    "X_train.shape"
   ]
  },
  {
   "cell_type": "code",
   "execution_count": 5,
   "id": "5c06a141",
   "metadata": {},
   "outputs": [
    {
     "data": {
      "text/plain": [
       "(10000, 28, 28)"
      ]
     },
     "execution_count": 5,
     "metadata": {},
     "output_type": "execute_result"
    }
   ],
   "source": [
    "X_test.shape"
   ]
  },
  {
   "cell_type": "code",
   "execution_count": 6,
   "id": "490b70a6",
   "metadata": {},
   "outputs": [
    {
     "data": {
      "text/plain": [
       "(28, 28)"
      ]
     },
     "execution_count": 6,
     "metadata": {},
     "output_type": "execute_result"
    }
   ],
   "source": [
    "X_train[10].shape"
   ]
  },
  {
   "cell_type": "markdown",
   "id": "6ce25bf8",
   "metadata": {},
   "source": [
    "#### Using Matplot to show the image"
   ]
  },
  {
   "cell_type": "code",
   "execution_count": 7,
   "id": "34e099c4",
   "metadata": {},
   "outputs": [
    {
     "data": {
      "text/plain": [
       "<matplotlib.image.AxesImage at 0x20ad96b9a10>"
      ]
     },
     "execution_count": 7,
     "metadata": {},
     "output_type": "execute_result"
    },
    {
     "data": {
      "image/png": "[encoded data removed]",
      "text/plain": [
       "<Figure size 480x480 with 1 Axes>"
      ]
     },
     "metadata": {},
     "output_type": "display_data"
    }
   ],
   "source": [
    "plt.matshow(X_train[10])"
   ]
  },
  {
   "cell_type": "code",
   "execution_count": 8,
   "id": "40186b5a",
   "metadata": {},
   "outputs": [
    {
     "data": {
      "text/plain": [
       "3"
      ]
     },
     "execution_count": 8,
     "metadata": {},
     "output_type": "execute_result"
    }
   ],
   "source": [
    "y_train[10]"
   ]
  },
  {
   "cell_type": "markdown",
   "id": "1991490c",
   "metadata": {},
   "source": [
    "#### Normalising the data."
   ]
  },
  {
   "cell_type": "code",
   "execution_count": 9,
   "id": "db9349b9",
   "metadata": {},
   "outputs": [],
   "source": [
    "X_train = X_train / 255\n",
    "X_test = X_test / 255"
   ]
  },
  {
   "cell_type": "markdown",
   "id": "d97a86df",
   "metadata": {},
   "source": [
    "#### Activation Function:\n",
    "<ul>\n",
    "    <li>Relu-They determine the output of a model, its accuracy, and computational efficiency. In some cases, activation functions have a major effect on the model's ability to converge and the convergence speed.</li>\n",
    "<li>Sigmoid- The sigmoid function's ability to transform any real number to one between 0 and 1 is advantageous in data science and many other fields such as: In deep learning as a non-linear activation function within neurons in artificial neural networks to allows the network to learn non-linear relationships between the data.</li>\n",
    "    </ul>"
   ]
  },
  {
   "cell_type": "code",
   "execution_count": 10,
   "id": "4858ed41",
   "metadata": {},
   "outputs": [
    {
     "name": "stdout",
     "output_type": "stream",
     "text": [
      "WARNING:tensorflow:From C:\\Users\\kaduk\\anaconda3\\Lib\\site-packages\\keras\\src\\backend.py:873: The name tf.get_default_graph is deprecated. Please use tf.compat.v1.get_default_graph instead.\n",
      "\n",
      "WARNING:tensorflow:From C:\\Users\\kaduk\\anaconda3\\Lib\\site-packages\\keras\\src\\optimizers\\__init__.py:309: The name tf.train.Optimizer is deprecated. Please use tf.compat.v1.train.Optimizer instead.\n",
      "\n",
      "Epoch 1/10\n",
      "WARNING:tensorflow:From C:\\Users\\kaduk\\anaconda3\\Lib\\site-packages\\keras\\src\\utils\\tf_utils.py:492: The name tf.ragged.RaggedTensorValue is deprecated. Please use tf.compat.v1.ragged.RaggedTensorValue instead.\n",
      "\n",
      "WARNING:tensorflow:From C:\\Users\\kaduk\\anaconda3\\Lib\\site-packages\\keras\\src\\engine\\base_layer_utils.py:384: The name tf.executing_eagerly_outside_functions is deprecated. Please use tf.compat.v1.executing_eagerly_outside_functions instead.\n",
      "\n",
      "1875/1875 [==============================] - 4s 2ms/step - loss: 0.2738 - accuracy: 0.9222\n",
      "Epoch 2/10\n",
      "1875/1875 [==============================] - 3s 2ms/step - loss: 0.1251 - accuracy: 0.9629\n",
      "Epoch 3/10\n",
      "1875/1875 [==============================] - 3s 2ms/step - loss: 0.0889 - accuracy: 0.9728\n",
      "Epoch 4/10\n",
      "1875/1875 [==============================] - 3s 2ms/step - loss: 0.0661 - accuracy: 0.9795\n",
      "Epoch 5/10\n",
      "1875/1875 [==============================] - 3s 2ms/step - loss: 0.0534 - accuracy: 0.9838\n",
      "Epoch 6/10\n",
      "1875/1875 [==============================] - 3s 2ms/step - loss: 0.0423 - accuracy: 0.9869\n",
      "Epoch 7/10\n",
      "1875/1875 [==============================] - 3s 1ms/step - loss: 0.0348 - accuracy: 0.9892\n",
      "Epoch 8/10\n",
      "1875/1875 [==============================] - 3s 2ms/step - loss: 0.0275 - accuracy: 0.9919\n",
      "Epoch 9/10\n",
      "1875/1875 [==============================] - 3s 2ms/step - loss: 0.0235 - accuracy: 0.9922\n",
      "Epoch 10/10\n",
      "1875/1875 [==============================] - 3s 2ms/step - loss: 0.0198 - accuracy: 0.9937\n"
     ]
    },
    {
     "data": {
      "text/plain": [
       "<keras.src.callbacks.History at 0x20ad9654790>"
      ]
     },
     "execution_count": 10,
     "metadata": {},
     "output_type": "execute_result"
    }
   ],
   "source": [
    "model = keras.Sequential([\n",
    "    keras.layers.Flatten(input_shape=(28, 28)),\n",
    "    keras.layers.Dense(100, activation='relu'),\n",
    "    keras.layers.Dense(10, activation='sigmoid')\n",
    "])\n",
    "\n",
    "model.compile(optimizer='adam',\n",
    "              loss='sparse_categorical_crossentropy',\n",
    "              metrics=['accuracy'])\n",
    "\n",
    "model.fit(X_train, y_train, epochs=10)"
   ]
  },
  {
   "cell_type": "code",
   "execution_count": 15,
   "id": "bfcd3f32",
   "metadata": {},
   "outputs": [
    {
     "name": "stdout",
     "output_type": "stream",
     "text": [
      "313/313 [==============================] - 1s 4ms/step - loss: 0.0598 - accuracy: 0.9855\n"
     ]
    },
    {
     "data": {
      "text/plain": [
       "[0.059824924916028976, 0.9854999780654907]"
      ]
     },
     "execution_count": 15,
     "metadata": {},
     "output_type": "execute_result"
    }
   ],
   "source": [
    "model.evaluate(X_test,y_test)"
   ]
  },
  {
   "cell_type": "code",
   "execution_count": 16,
   "id": "0e57c26b",
   "metadata": {},
   "outputs": [
    {
     "data": {
      "text/plain": [
       "(60000, 28, 28, 1)"
      ]
     },
     "execution_count": 16,
     "metadata": {},
     "output_type": "execute_result"
    }
   ],
   "source": [
    "X_train = X_train.reshape(-1,28,28,1)\n",
    "X_train.shape"
   ]
  },
  {
   "cell_type": "code",
   "execution_count": 17,
   "id": "2be881b5",
   "metadata": {},
   "outputs": [
    {
     "data": {
      "text/plain": [
       "(10000, 28, 28, 1)"
      ]
     },
     "execution_count": 17,
     "metadata": {},
     "output_type": "execute_result"
    }
   ],
   "source": [
    "X_test = X_test.reshape(-1,28,28,1)\n",
    "X_test.shape"
   ]
  },
  {
   "cell_type": "markdown",
   "id": "cd64e42e",
   "metadata": {},
   "source": [
    "#### CNN Classification\n",
    "Convolutional Neural Networks (CNN) have revolutionized computer vision tasks by enabling accurate and automated object recognition within images, thereby revolutionizing image classification. Because CNN-based image classification algorithms can automatically learn and extract complex features from raw image data, they have become extremely popular. The concepts, methods, and uses of CNN-based image classification will all be covered in this essay. We will explore CNN image classification evaluation metrics, training procedure, and architecture. Understanding how CNNs function for image classification opens up a world of possibilities for visual data analysis, object recognition, and scene comprehension.\n"
   ]
  },
  {
   "cell_type": "code",
   "execution_count": 11,
   "id": "2e1aa7e1",
   "metadata": {},
   "outputs": [
    {
     "name": "stdout",
     "output_type": "stream",
     "text": [
      "WARNING:tensorflow:From C:\\Users\\kaduk\\anaconda3\\Lib\\site-packages\\keras\\src\\layers\\pooling\\max_pooling2d.py:161: The name tf.nn.max_pool is deprecated. Please use tf.nn.max_pool2d instead.\n",
      "\n"
     ]
    }
   ],
   "source": [
    "model = keras.Sequential([\n",
    "    \n",
    "    layers.Conv2D(30, (3,3), activation='relu', input_shape=(28, 28, 1)),\n",
    "    layers.MaxPooling2D((2,2)),\n",
    " \n",
    "    layers.Flatten(),\n",
    "    layers.Dense(100, activation='relu'),\n",
    "    keras.layers.Dense(10, activation='sigmoid')\n",
    "])"
   ]
  },
  {
   "cell_type": "markdown",
   "id": "5bf97e05",
   "metadata": {},
   "source": [
    "#### Epochs For evaluating Accuracy\n",
    "Epochs objects are a data structure for representing and analyzing equal-duration chunks of the EEG/MEG signal. Epochs are most often used to represent data that is time-locked to repeated experimental events (such as stimulus onsets or subject button presses), but can also be used for storing sequential or overlapping frames of a continuous signal (e.g., for analysis of resting-state activity; see Making equally-spaced Events arrays). Inside an Epochs object, the data are stored in an array of shape."
   ]
  },
  {
   "cell_type": "code",
   "execution_count": 12,
   "id": "171d6fa1",
   "metadata": {},
   "outputs": [
    {
     "name": "stdout",
     "output_type": "stream",
     "text": [
      "Epoch 1/10\n",
      "1875/1875 [==============================] - 11s 6ms/step - loss: 0.1696 - accuracy: 0.9489\n",
      "Epoch 2/10\n",
      "1875/1875 [==============================] - 10s 5ms/step - loss: 0.0598 - accuracy: 0.9818\n",
      "Epoch 3/10\n",
      "1875/1875 [==============================] - 10s 5ms/step - loss: 0.0388 - accuracy: 0.9880\n",
      "Epoch 4/10\n",
      "1875/1875 [==============================] - 10s 5ms/step - loss: 0.0254 - accuracy: 0.9918\n",
      "Epoch 5/10\n",
      "1875/1875 [==============================] - 10s 5ms/step - loss: 0.0197 - accuracy: 0.9935\n",
      "Epoch 6/10\n",
      "1875/1875 [==============================] - 10s 6ms/step - loss: 0.0126 - accuracy: 0.9959\n",
      "Epoch 7/10\n",
      "1875/1875 [==============================] - 10s 5ms/step - loss: 0.0103 - accuracy: 0.9965\n",
      "Epoch 8/10\n",
      "1875/1875 [==============================] - 11s 6ms/step - loss: 0.0069 - accuracy: 0.9978\n",
      "Epoch 9/10\n",
      "1875/1875 [==============================] - 12s 6ms/step - loss: 0.0080 - accuracy: 0.9972\n",
      "Epoch 10/10\n",
      "1875/1875 [==============================] - 12s 6ms/step - loss: 0.0053 - accuracy: 0.9981\n"
     ]
    },
    {
     "data": {
      "text/plain": [
       "<keras.src.callbacks.History at 0x20a80145210>"
      ]
     },
     "execution_count": 12,
     "metadata": {},
     "output_type": "execute_result"
    }
   ],
   "source": [
    "model.compile(optimizer='adam',\n",
    "              loss='sparse_categorical_crossentropy',\n",
    "              metrics=['accuracy'])\n",
    "\n",
    "model.fit(X_train, y_train, epochs=10)"
   ]
  },
  {
   "cell_type": "code",
   "execution_count": 13,
   "id": "e43b1d37",
   "metadata": {},
   "outputs": [
    {
     "data": {
      "text/plain": [
       "array([5, 0, 4, 1, 9, 2, 1, 3, 1, 4], dtype=uint8)"
      ]
     },
     "execution_count": 13,
     "metadata": {},
     "output_type": "execute_result"
    }
   ],
   "source": [
    "y_train[:10]"
   ]
  },
  {
   "cell_type": "code",
   "execution_count": 14,
   "id": "b071d11f",
   "metadata": {},
   "outputs": [
    {
     "name": "stdout",
     "output_type": "stream",
     "text": [
      "313/313 [==============================] - 2s 4ms/step - loss: 0.0598 - accuracy: 0.9855\n"
     ]
    },
    {
     "data": {
      "text/plain": [
       "[0.059824924916028976, 0.9854999780654907]"
      ]
     },
     "execution_count": 14,
     "metadata": {},
     "output_type": "execute_result"
    }
   ],
   "source": [
    "model.evaluate(X_test,y_test)"
   ]
  },
  {
   "cell_type": "markdown",
   "id": "8cf0e4e9",
   "metadata": {},
   "source": [
    "#### Reflection\n",
    "A detailed explanation of a Convolutional Neural Network (CNN) based system designed to recognize four different types of visual blur. These blurs include Gaussian blurs, defocus blurs, and motion blurs. The model uses supervised learning and includes a step that transforms input photos into a higher-dimensional feature space. This process aims to accurately categorize the images. To reduce overfitting and speed up convergence, the model replaces the removal method with group normalization layers. The methodical approach of the model is particularly suitable for tasks that are relatively simple or for new users. A rational and well-organized network layer architecture is ensured by this method.The middle layers' activation function is used when the output layer uses the function and#039;softmaxand#039;. This background knowledge is necessary to evaluate the model's applicability and completely understand the challenges involved in the work. It's crucial to keep in mind that dense networks, like the one shown here, may overfit, particularly when dealing with small or homogeneous datasets. To lower this risk, it could be beneficial to employ regularization or data augmentation techniques. When all is said and done, the model offers a strong foundation for using neural networks in picture classification. It effectively demonstrates key ideas in deep learning. In the future, the model could be improved by looking into more complex architectures that are particularly well-suited to image data, better controlling overfitting, and adding a range of evaluation criteria.\n",
    "\n",
    "#### Advantages\n",
    "<ul>\n",
    "    <li>Using a multi-layered sequential model suggests that one is attempting to identify complex patterns in the data, which can lead to increased accuracy.\n",
    "        </li>\n",
    "    <li> The notebook encourages comprehension and reproducibility with its logical flow from data preparation to model evaluation.</li>\n",
    "   </ul>\n",
    "   \n",
    "#### Drawbacks\n",
    "<ul>\n",
    "    <li> There is no introductory text or commentary outlining the purpose of the notebook, the contents of the dataset, or the specific goals of the model. This lack of context may make it difficult for others to understand the work's broader purpose or applicability.</li>\n",
    "    <li>Accurate classification appears to be the evaluator's primary concern. Additional metrics, such as recall, precision, or a confusion matrix, would provide a more complete view of the model's functionality.</li>\n",
    "    </ul>\n",
    "    \n",
    "#### Reference\n",
    "<ul>\n",
    "    <li>Steger, Carsten; Markus Ulrich; Christian Wiedemann (2018). Machine Vision Algorithms and Applications (2nd ed.). Weinheim: Wiley-VCH. p. 1. ISBN 978-3-527-41365-2. Archived from the original on 2023-03-15. Retrieved 2018-01-30.</li>\n",
    "    <li>Michael C. Fairhurst (1988). Computer Vision for robotic systems. Prentice Hall. ISBN 978-0-13-166919-2.</li>\n",
    "</ul>"
   ]
  },
  {
   "cell_type": "code",
   "execution_count": null,
   "id": "3bfce0b6",
   "metadata": {},
   "outputs": [],
   "source": []
  }
 ],
 "metadata": {
  "kernelspec": {
   "display_name": "Python 3 (ipykernel)",
   "language": "python",
   "name": "python3"
  },
  "language_info": {
   "codemirror_mode": {
    "name": "ipython",
    "version": 3
   },
   "file_extension": ".py",
   "mimetype": "text/x-python",
   "name": "python",
   "nbconvert_exporter": "python",
   "pygments_lexer": "ipython3",
   "version": "3.11.4"
  }
 },
 "nbformat": 4,
 "nbformat_minor": 5
}
